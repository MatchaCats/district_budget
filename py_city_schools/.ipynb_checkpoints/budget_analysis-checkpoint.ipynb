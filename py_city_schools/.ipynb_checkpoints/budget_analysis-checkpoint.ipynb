{
 "cells": [
  {
   "cell_type": "code",
   "execution_count": null,
   "id": "cbd0548b-f537-492c-9120-5d80dea7b27f",
   "metadata": {},
   "outputs": [],
   "source": [
    "PyCity Schools Analysis\n",
    "\n",
    "# 1. Overall school size played a rather large factor. As the bottom 3 schools in terms of population,\n",
    "# averaged out to about $1,967,232. While the 3 largest schools averaged about $1,617,215. Smaller schools seemed\n",
    "# to have larger budgets on average.\n",
    "\n",
    "# 2. There was a three-way tie for highest average math score for both reading and math. Cabrera High School, \n",
    "# Pena High School, and Thomas High School. All of which scored 84% in both Math and Reading.\n",
    "\n",
    "# 3. The smallest school overall was spending nearly 16 times more per capita ($2442.92), than the largest school ($383.97)."
   ]
  },
  {
   "cell_type": "code",
   "execution_count": null,
   "id": "a4007715-7114-46b7-afbc-5b349a2790f4",
   "metadata": {},
   "outputs": [],
   "source": []
  },
  {
   "cell_type": "code",
   "execution_count": 3,
   "id": "51a0e60e-7316-4e33-8e20-b7057a579689",
   "metadata": {},
   "outputs": [],
   "source": [
    "## Importing dependencies \n",
    "import pandas as pd\n",
    "import os"
   ]
  },
  {
   "cell_type": "code",
   "execution_count": 5,
   "id": "00f718ea-f77d-4f03-8bda-795d697f4602",
   "metadata": {},
   "outputs": [
    {
     "data": {
      "text/html": [
       "<div>\n",
       "<style scoped>\n",
       "    .dataframe tbody tr th:only-of-type {\n",
       "        vertical-align: middle;\n",
       "    }\n",
       "\n",
       "    .dataframe tbody tr th {\n",
       "        vertical-align: top;\n",
       "    }\n",
       "\n",
       "    .dataframe thead th {\n",
       "        text-align: right;\n",
       "    }\n",
       "</style>\n",
       "<table border=\"1\" class=\"dataframe\">\n",
       "  <thead>\n",
       "    <tr style=\"text-align: right;\">\n",
       "      <th></th>\n",
       "      <th>Student ID</th>\n",
       "      <th>student_name</th>\n",
       "      <th>gender</th>\n",
       "      <th>grade</th>\n",
       "      <th>school_name</th>\n",
       "      <th>reading_score</th>\n",
       "      <th>math_score</th>\n",
       "      <th>School ID</th>\n",
       "      <th>type</th>\n",
       "      <th>size</th>\n",
       "      <th>budget</th>\n",
       "    </tr>\n",
       "  </thead>\n",
       "  <tbody>\n",
       "    <tr>\n",
       "      <th>0</th>\n",
       "      <td>0</td>\n",
       "      <td>Paul Bradley</td>\n",
       "      <td>M</td>\n",
       "      <td>9th</td>\n",
       "      <td>Huang High School</td>\n",
       "      <td>66</td>\n",
       "      <td>79</td>\n",
       "      <td>0</td>\n",
       "      <td>District</td>\n",
       "      <td>2917</td>\n",
       "      <td>1910635</td>\n",
       "    </tr>\n",
       "    <tr>\n",
       "      <th>1</th>\n",
       "      <td>1</td>\n",
       "      <td>Victor Smith</td>\n",
       "      <td>M</td>\n",
       "      <td>12th</td>\n",
       "      <td>Huang High School</td>\n",
       "      <td>94</td>\n",
       "      <td>61</td>\n",
       "      <td>0</td>\n",
       "      <td>District</td>\n",
       "      <td>2917</td>\n",
       "      <td>1910635</td>\n",
       "    </tr>\n",
       "    <tr>\n",
       "      <th>2</th>\n",
       "      <td>2</td>\n",
       "      <td>Kevin Rodriguez</td>\n",
       "      <td>M</td>\n",
       "      <td>12th</td>\n",
       "      <td>Huang High School</td>\n",
       "      <td>90</td>\n",
       "      <td>60</td>\n",
       "      <td>0</td>\n",
       "      <td>District</td>\n",
       "      <td>2917</td>\n",
       "      <td>1910635</td>\n",
       "    </tr>\n",
       "    <tr>\n",
       "      <th>3</th>\n",
       "      <td>3</td>\n",
       "      <td>Dr. Richard Scott</td>\n",
       "      <td>M</td>\n",
       "      <td>12th</td>\n",
       "      <td>Huang High School</td>\n",
       "      <td>67</td>\n",
       "      <td>58</td>\n",
       "      <td>0</td>\n",
       "      <td>District</td>\n",
       "      <td>2917</td>\n",
       "      <td>1910635</td>\n",
       "    </tr>\n",
       "    <tr>\n",
       "      <th>4</th>\n",
       "      <td>4</td>\n",
       "      <td>Bonnie Ray</td>\n",
       "      <td>F</td>\n",
       "      <td>9th</td>\n",
       "      <td>Huang High School</td>\n",
       "      <td>97</td>\n",
       "      <td>84</td>\n",
       "      <td>0</td>\n",
       "      <td>District</td>\n",
       "      <td>2917</td>\n",
       "      <td>1910635</td>\n",
       "    </tr>\n",
       "  </tbody>\n",
       "</table>\n",
       "</div>"
      ],
      "text/plain": [
       "   Student ID       student_name gender grade        school_name  \\\n",
       "0           0       Paul Bradley      M   9th  Huang High School   \n",
       "1           1       Victor Smith      M  12th  Huang High School   \n",
       "2           2    Kevin Rodriguez      M  12th  Huang High School   \n",
       "3           3  Dr. Richard Scott      M  12th  Huang High School   \n",
       "4           4         Bonnie Ray      F   9th  Huang High School   \n",
       "\n",
       "   reading_score  math_score  School ID      type  size   budget  \n",
       "0             66          79          0  District  2917  1910635  \n",
       "1             94          61          0  District  2917  1910635  \n",
       "2             90          60          0  District  2917  1910635  \n",
       "3             67          58          0  District  2917  1910635  \n",
       "4             97          84          0  District  2917  1910635  "
      ]
     },
     "execution_count": 5,
     "metadata": {},
     "output_type": "execute_result"
    }
   ],
   "source": [
    "## Importing in CSV files\n",
    "school_data_csv = \"Resources/schools_complete.csv\"\n",
    "student_data_csv =  \"Resources/students_complete.csv\"\n",
    "\n",
    "## Reading in CSV files and convert into Pandas dataframes\n",
    "school_data_df = pd.read_csv(school_data_csv)\n",
    "student_data_df = pd.read_csv(student_data_csv)\n",
    "\n",
    "## Merging the dataframes\n",
    "school_data_complete = pd.merge(student_data_df, school_data_df, how=\"left\", on=[\"school_name\", \"school_name\"])\n",
    "school_data_complete.head()\n"
   ]
  },
  {
   "cell_type": "code",
   "execution_count": 7,
   "id": "da82bad3-e66f-4ad0-ad8d-2c37c5d7a8b9",
   "metadata": {},
   "outputs": [
    {
     "data": {
      "text/plain": [
       "Student ID       39170\n",
       "student_name     39170\n",
       "gender           39170\n",
       "grade            39170\n",
       "school_name      39170\n",
       "reading_score    39170\n",
       "math_score       39170\n",
       "School ID        39170\n",
       "type             39170\n",
       "size             39170\n",
       "budget           39170\n",
       "dtype: int64"
      ]
     },
     "execution_count": 7,
     "metadata": {},
     "output_type": "execute_result"
    }
   ],
   "source": [
    "## Verifying data is clean\n",
    "school_data_complete.count()"
   ]
  },
  {
   "cell_type": "code",
   "execution_count": 9,
   "id": "2ef0414e-e138-4a15-aa8c-00c9fdf5ba2a",
   "metadata": {},
   "outputs": [
    {
     "name": "stdout",
     "output_type": "stream",
     "text": [
      "    School ID            school_name      type  size   budget\n",
      "0           0      Huang High School  District  2917  1910635\n",
      "1           1   Figueroa High School  District  2949  1884411\n",
      "2           2    Shelton High School   Charter  1761  1056600\n",
      "3           3  Hernandez High School  District  4635  3022020\n",
      "4           4    Griffin High School   Charter  1468   917500\n",
      "5           5     Wilson High School   Charter  2283  1319574\n",
      "6           6    Cabrera High School   Charter  1858  1081356\n",
      "7           7     Bailey High School  District  4976  3124928\n",
      "8           8     Holden High School   Charter   427   248087\n",
      "9           9       Pena High School   Charter   962   585858\n",
      "10         10     Wright High School   Charter  1800  1049400\n",
      "11         11  Rodriguez High School  District  3999  2547363\n",
      "12         12    Johnson High School  District  4761  3094650\n",
      "13         13       Ford High School  District  2739  1763916\n",
      "14         14     Thomas High School   Charter  1635  1043130\n",
      "Total number of unique schools: 15\n"
     ]
    }
   ],
   "source": [
    "## Total number of unique schools\n",
    "\n",
    "## Printing out school dataframe to view all the school names\n",
    "print(school_data_df)\n",
    "## Counting the rows so row 0 is also included in the total\n",
    "#school_data_df.count()\n",
    "unique_schools = 15\n",
    "\n",
    "print(f\"Total number of unique schools: {unique_schools}\")"
   ]
  },
  {
   "cell_type": "code",
   "execution_count": 11,
   "id": "3ac78302-8b03-435e-9d94-0ed384bd4a8f",
   "metadata": {},
   "outputs": [
    {
     "name": "stdout",
     "output_type": "stream",
     "text": [
      "Total number of students: 39170\n"
     ]
    }
   ],
   "source": [
    "## Total students\n",
    "\n",
    "## Counting each student ID\n",
    "student_data_df.count()\n",
    "\n",
    "total_students = 39170\n",
    "print(f\"Total number of students: {39170}\")"
   ]
  },
  {
   "cell_type": "code",
   "execution_count": 13,
   "id": "b0b4f14c-e398-49bb-826c-2d9b64197a91",
   "metadata": {},
   "outputs": [
    {
     "name": "stdout",
     "output_type": "stream",
     "text": [
      "Total budget: $24649428\n"
     ]
    }
   ],
   "source": [
    "## Total budget\n",
    "\n",
    "## Adding the budget for each school together\n",
    "total_budget = school_data_df['budget'].sum()\n",
    "#print(total_budget)\n",
    "\n",
    "print(f\"Total budget: ${total_budget}\")"
   ]
  },
  {
   "cell_type": "code",
   "execution_count": 15,
   "id": "4112832a-bbd9-4f26-8f50-ec649f74d04e",
   "metadata": {},
   "outputs": [
    {
     "name": "stdout",
     "output_type": "stream",
     "text": [
      "Average math score: 79.0\n"
     ]
    }
   ],
   "source": [
    "## Average math score\n",
    "\n",
    "## Finding the average math score, then rounding to the nearest whole #\n",
    "average_math = (school_data_complete['math_score'].mean()).round()\n",
    "#print(average_math)\n",
    "\n",
    "print(f\"Average math score: {average_math}\")"
   ]
  },
  {
   "cell_type": "code",
   "execution_count": 17,
   "id": "2a83c13b-a6c4-4c4b-a16b-5b176fae2487",
   "metadata": {},
   "outputs": [
    {
     "name": "stdout",
     "output_type": "stream",
     "text": [
      "Average reading score: 82.0\n"
     ]
    }
   ],
   "source": [
    "## Average reading score\n",
    "\n",
    "## Finding the average reading score, then rounding to the nearest whole #\n",
    "average_reading = (school_data_complete['reading_score'].mean()).round()\n",
    "#print(average_reading)\n",
    "\n",
    "print(f\"Average reading score: {average_reading}\")"
   ]
  },
  {
   "cell_type": "code",
   "execution_count": 19,
   "id": "73edfa69-abc7-4b7e-bfe4-5b4f05b9afb6",
   "metadata": {},
   "outputs": [
    {
     "name": "stdout",
     "output_type": "stream",
     "text": [
      "Average passing math: 75%\n"
     ]
    }
   ],
   "source": [
    "## % passing math (the percentage of students who passed math)\n",
    "\n",
    "## Sorting to find students that passed math\n",
    "math_pass = school_data_complete.loc[school_data_complete['math_score'] >= 70]\n",
    "#print(math_pass)\n",
    "#percent_pass_math = math_pass.mean()\n",
    "## Counts how many students are in the new variable\n",
    "math_pass.count()\n",
    "## Setting a variable to hold the # of passing students for math\n",
    "student_math_pass = 29370\n",
    "\n",
    "## Finding the average\n",
    "average_math_pass = ((student_math_pass/total_students)*100)\n",
    "r_average_math_pass = round(average_math_pass)\n",
    "#print(r_average_math_pass)\n",
    "\n",
    "print(f\"Average passing math: {r_average_math_pass}%\")"
   ]
  },
  {
   "cell_type": "code",
   "execution_count": 25,
   "id": "773687f6-7d6a-43b3-9ccf-a9427e7191d3",
   "metadata": {},
   "outputs": [
    {
     "name": "stdout",
     "output_type": "stream",
     "text": [
      "Average passing reading: 86%\n"
     ]
    }
   ],
   "source": [
    "## % passing reading (the percentage of students who passed reading)\n",
    "\n",
    "## Sorting to find students that passed reading\n",
    "reading_pass = school_data_complete.loc[school_data_complete['reading_score'] >= 70]\n",
    "#print(reading_pass)\n",
    "#percent_pass_reading = reading_pass.mean()\n",
    "## Counts how many students are in the new variable\n",
    "reading_pass.count()\n",
    "## Setting a variable to hold the # of passing students for reeading\n",
    "student_reading_pass = 33610\n",
    "\n",
    "## Finding the average\n",
    "average_reading_pass = ((student_reading_pass/total_students)*100)\n",
    "r_average_reading_pass = round(average_reading_pass)\n",
    "#print(r_average_reading_pass)\n",
    "\n",
    "print(f\"Average passing reading: {r_average_reading_pass}%\")"
   ]
  },
  {
   "cell_type": "code",
   "execution_count": 27,
   "id": "f1a4635f-4781-46f5-902a-ac0b1855fd5d",
   "metadata": {},
   "outputs": [
    {
     "name": "stdout",
     "output_type": "stream",
     "text": [
      "Overall passing: 65%\n"
     ]
    }
   ],
   "source": [
    "## % overall passing (the percentage of students who passed math AND reading)\n",
    "\n",
    "## Sorting to find students that passed reading and math\n",
    "all_pass = school_data_complete.loc[(school_data_complete['math_score'] >= 70) &\n",
    "    (school_data_complete['reading_score'] >=70)]\n",
    "## Counts how many students passed both subjects\n",
    "all_pass.count()\n",
    "total_all_pass = 25528\n",
    "\n",
    "## Finding the average\n",
    "average_all_pass = ((total_all_pass/total_students)*100)\n",
    "r_average_all_pass = round(average_all_pass)\n",
    "#print(r_average_all_pass)\n",
    "\n",
    "print(f\"Overall passing: {r_average_all_pass}%\") \n"
   ]
  },
  {
   "cell_type": "code",
   "execution_count": 29,
   "id": "d7000d43-08d1-46aa-8e34-e595ebdf7cb5",
   "metadata": {},
   "outputs": [
    {
     "data": {
      "text/html": [
       "<div>\n",
       "<style scoped>\n",
       "    .dataframe tbody tr th:only-of-type {\n",
       "        vertical-align: middle;\n",
       "    }\n",
       "\n",
       "    .dataframe tbody tr th {\n",
       "        vertical-align: top;\n",
       "    }\n",
       "\n",
       "    .dataframe thead th {\n",
       "        text-align: right;\n",
       "    }\n",
       "</style>\n",
       "<table border=\"1\" class=\"dataframe\">\n",
       "  <thead>\n",
       "    <tr style=\"text-align: right;\">\n",
       "      <th></th>\n",
       "      <th>Total Schools</th>\n",
       "      <th>Total Students</th>\n",
       "      <th>Total Budget</th>\n",
       "      <th>Average Math Score</th>\n",
       "      <th>Average Reading Score</th>\n",
       "      <th>% Passing Math</th>\n",
       "      <th>% Passing Reading</th>\n",
       "      <th>% Overall Passing</th>\n",
       "    </tr>\n",
       "  </thead>\n",
       "  <tbody>\n",
       "    <tr>\n",
       "      <th>0</th>\n",
       "      <td>15</td>\n",
       "      <td>39170</td>\n",
       "      <td>24649428</td>\n",
       "      <td>79.0</td>\n",
       "      <td>82.0</td>\n",
       "      <td>75</td>\n",
       "      <td>86</td>\n",
       "      <td>65</td>\n",
       "    </tr>\n",
       "  </tbody>\n",
       "</table>\n",
       "</div>"
      ],
      "text/plain": [
       "   Total Schools  Total Students  Total Budget  Average Math Score  \\\n",
       "0             15           39170      24649428                79.0   \n",
       "\n",
       "   Average Reading Score  % Passing Math  % Passing Reading  % Overall Passing  \n",
       "0                   82.0              75                 86                 65  "
      ]
     },
     "execution_count": 29,
     "metadata": {},
     "output_type": "execute_result"
    }
   ],
   "source": [
    "## District Summary\n",
    "\n",
    "district_df = pd.DataFrame({\n",
    "    \"Total Schools\": [unique_schools],\n",
    "    \"Total Students\": [total_students],\n",
    "    \"Total Budget\": [total_budget],\n",
    "    \"Average Math Score\": [average_math],\n",
    "    \"Average Reading Score\": [average_reading],\n",
    "    \"% Passing Math\": [r_average_math_pass],\n",
    "    \"% Passing Reading\": [r_average_reading_pass],\n",
    "    \"% Overall Passing\": [r_average_all_pass]})\n",
    "district_df\n",
    "    "
   ]
  },
  {
   "cell_type": "code",
   "execution_count": null,
   "id": "ab54357d-b493-429c-948e-3fe8612d122e",
   "metadata": {},
   "outputs": [],
   "source": []
  },
  {
   "cell_type": "code",
   "execution_count": 31,
   "id": "be10390f-58ab-4179-87b9-a4a7eb13bb3c",
   "metadata": {},
   "outputs": [
    {
     "data": {
      "text/plain": [
       "array(['Huang High School', 'Figueroa High School', 'Shelton High School',\n",
       "       'Hernandez High School', 'Griffin High School',\n",
       "       'Wilson High School', 'Cabrera High School', 'Bailey High School',\n",
       "       'Holden High School', 'Pena High School', 'Wright High School',\n",
       "       'Rodriguez High School', 'Johnson High School', 'Ford High School',\n",
       "       'Thomas High School'], dtype=object)"
      ]
     },
     "execution_count": 31,
     "metadata": {},
     "output_type": "execute_result"
    }
   ],
   "source": [
    "\n",
    "## Listing out all the school names\n",
    "unique_schools = school_data_complete['school_name'].unique()\n",
    "unique_schools\n",
    "\n"
   ]
  },
  {
   "cell_type": "code",
   "execution_count": 33,
   "id": "3dd13788-00c6-4fd7-8d70-c334a4c835f8",
   "metadata": {},
   "outputs": [
    {
     "data": {
      "text/plain": [
       "['District',\n",
       " 'District',\n",
       " 'Charter',\n",
       " 'District',\n",
       " 'Charter',\n",
       " 'Charter',\n",
       " 'Charter',\n",
       " 'District',\n",
       " 'Charter',\n",
       " 'Charter',\n",
       " 'Charter',\n",
       " 'District',\n",
       " 'District',\n",
       " 'District',\n",
       " 'Charter']"
      ]
     },
     "execution_count": 33,
     "metadata": {},
     "output_type": "execute_result"
    }
   ],
   "source": [
    "## Per school type\n",
    "\n",
    "## Finding school types and converting to a list\n",
    "per_school_type = school_data_df['type'].tolist()\n",
    "per_school_type"
   ]
  },
  {
   "cell_type": "code",
   "execution_count": 35,
   "id": "aa01eaa7-a9f2-48c1-99f0-2c037d1952c2",
   "metadata": {},
   "outputs": [
    {
     "data": {
      "text/plain": [
       "[4976,\n",
       " 4761,\n",
       " 4635,\n",
       " 3999,\n",
       " 2949,\n",
       " 2917,\n",
       " 2739,\n",
       " 2283,\n",
       " 1858,\n",
       " 1800,\n",
       " 1761,\n",
       " 1635,\n",
       " 1468,\n",
       " 962,\n",
       " 427]"
      ]
     },
     "execution_count": 35,
     "metadata": {},
     "output_type": "execute_result"
    }
   ],
   "source": [
    "## Per school student total\n",
    "\n",
    "## Finding students for each school then converting to a list\n",
    "per_school_students = school_data_complete['school_name'].value_counts()\n",
    "per_school_students_one = per_school_students.tolist()\n",
    "per_school_students_one"
   ]
  },
  {
   "cell_type": "code",
   "execution_count": 37,
   "id": "06ee4154-3a68-4305-ae15-703b09ae51de",
   "metadata": {},
   "outputs": [
    {
     "data": {
      "text/plain": [
       "[1910635,\n",
       " 1884411,\n",
       " 1056600,\n",
       " 3022020,\n",
       " 917500,\n",
       " 1319574,\n",
       " 1081356,\n",
       " 3124928,\n",
       " 248087,\n",
       " 585858,\n",
       " 1049400,\n",
       " 2547363,\n",
       " 3094650,\n",
       " 1763916,\n",
       " 1043130]"
      ]
     },
     "execution_count": 37,
     "metadata": {},
     "output_type": "execute_result"
    }
   ],
   "source": [
    "## Per school budget\n",
    "\n",
    "## Finding budgets for each school and converting to a list\n",
    "per_school_budget_one = school_data_df['budget'].tolist()\n",
    "per_school_budget_one\n"
   ]
  },
  {
   "cell_type": "code",
   "execution_count": 61,
   "id": "7a069816-ba93-4e90-a596-2aa71516349e",
   "metadata": {},
   "outputs": [
    {
     "data": {
      "text/html": [
       "<div>\n",
       "<style scoped>\n",
       "    .dataframe tbody tr th:only-of-type {\n",
       "        vertical-align: middle;\n",
       "    }\n",
       "\n",
       "    .dataframe tbody tr th {\n",
       "        vertical-align: top;\n",
       "    }\n",
       "\n",
       "    .dataframe thead th {\n",
       "        text-align: right;\n",
       "    }\n",
       "</style>\n",
       "<table border=\"1\" class=\"dataframe\">\n",
       "  <thead>\n",
       "    <tr style=\"text-align: right;\">\n",
       "      <th></th>\n",
       "      <th>budget</th>\n",
       "    </tr>\n",
       "    <tr>\n",
       "      <th>school_name</th>\n",
       "      <th></th>\n",
       "    </tr>\n",
       "  </thead>\n",
       "  <tbody>\n",
       "    <tr>\n",
       "      <th>Bailey High School</th>\n",
       "      <td>3124928.0</td>\n",
       "    </tr>\n",
       "    <tr>\n",
       "      <th>Cabrera High School</th>\n",
       "      <td>1081356.0</td>\n",
       "    </tr>\n",
       "    <tr>\n",
       "      <th>Figueroa High School</th>\n",
       "      <td>1884411.0</td>\n",
       "    </tr>\n",
       "    <tr>\n",
       "      <th>Ford High School</th>\n",
       "      <td>1763916.0</td>\n",
       "    </tr>\n",
       "    <tr>\n",
       "      <th>Griffin High School</th>\n",
       "      <td>917500.0</td>\n",
       "    </tr>\n",
       "    <tr>\n",
       "      <th>Hernandez High School</th>\n",
       "      <td>3022020.0</td>\n",
       "    </tr>\n",
       "    <tr>\n",
       "      <th>Holden High School</th>\n",
       "      <td>248087.0</td>\n",
       "    </tr>\n",
       "    <tr>\n",
       "      <th>Huang High School</th>\n",
       "      <td>1910635.0</td>\n",
       "    </tr>\n",
       "    <tr>\n",
       "      <th>Johnson High School</th>\n",
       "      <td>3094650.0</td>\n",
       "    </tr>\n",
       "    <tr>\n",
       "      <th>Pena High School</th>\n",
       "      <td>585858.0</td>\n",
       "    </tr>\n",
       "    <tr>\n",
       "      <th>Rodriguez High School</th>\n",
       "      <td>2547363.0</td>\n",
       "    </tr>\n",
       "    <tr>\n",
       "      <th>Shelton High School</th>\n",
       "      <td>1056600.0</td>\n",
       "    </tr>\n",
       "    <tr>\n",
       "      <th>Thomas High School</th>\n",
       "      <td>1043130.0</td>\n",
       "    </tr>\n",
       "    <tr>\n",
       "      <th>Wilson High School</th>\n",
       "      <td>1319574.0</td>\n",
       "    </tr>\n",
       "    <tr>\n",
       "      <th>Wright High School</th>\n",
       "      <td>1049400.0</td>\n",
       "    </tr>\n",
       "  </tbody>\n",
       "</table>\n",
       "</div>"
      ],
      "text/plain": [
       "                          budget\n",
       "school_name                     \n",
       "Bailey High School     3124928.0\n",
       "Cabrera High School    1081356.0\n",
       "Figueroa High School   1884411.0\n",
       "Ford High School       1763916.0\n",
       "Griffin High School     917500.0\n",
       "Hernandez High School  3022020.0\n",
       "Holden High School      248087.0\n",
       "Huang High School      1910635.0\n",
       "Johnson High School    3094650.0\n",
       "Pena High School        585858.0\n",
       "Rodriguez High School  2547363.0\n",
       "Shelton High School    1056600.0\n",
       "Thomas High School     1043130.0\n",
       "Wilson High School     1319574.0\n",
       "Wright High School     1049400.0"
      ]
     },
     "execution_count": 61,
     "metadata": {},
     "output_type": "execute_result"
    }
   ],
   "source": [
    "#per_school_budget = school_data_complete.groupby(['school_name']).mean()['budget']\n",
    "per_school_budget = school_data_complete.groupby('school_name').agg({'budget': 'mean'})\n",
    "per_school_budget"
   ]
  },
  {
   "cell_type": "code",
   "execution_count": 59,
   "id": "a770b27b-c8d2-44d5-88a3-985ec2cf8ef0",
   "metadata": {},
   "outputs": [
    {
     "data": {
      "text/plain": [
       "school_name\n",
       "Bailey High School       628.0\n",
       "Cabrera High School      582.0\n",
       "Figueroa High School     639.0\n",
       "Ford High School         644.0\n",
       "Griffin High School      625.0\n",
       "Hernandez High School    652.0\n",
       "Holden High School       581.0\n",
       "Huang High School        655.0\n",
       "Johnson High School      650.0\n",
       "Pena High School         609.0\n",
       "Rodriguez High School    637.0\n",
       "Shelton High School      600.0\n",
       "Thomas High School       638.0\n",
       "Wilson High School       578.0\n",
       "Wright High School       583.0\n",
       "dtype: float64"
      ]
     },
     "execution_count": 59,
     "metadata": {},
     "output_type": "execute_result"
    }
   ],
   "source": [
    "## Per capita budget\n",
    "\n",
    "per_capita_budget = per_school_budget['budget'] / per_school_students\n",
    "per_capita_budget"
   ]
  },
  {
   "cell_type": "code",
   "execution_count": 63,
   "id": "6b22f258-8d49-4293-98da-bd0b400a7731",
   "metadata": {},
   "outputs": [
    {
     "data": {
      "text/plain": [
       "[77.0,\n",
       " 83.0,\n",
       " 77.0,\n",
       " 77.0,\n",
       " 83.0,\n",
       " 77.0,\n",
       " 84.0,\n",
       " 77.0,\n",
       " 77.0,\n",
       " 84.0,\n",
       " 77.0,\n",
       " 83.0,\n",
       " 83.0,\n",
       " 83.0,\n",
       " 84.0]"
      ]
     },
     "execution_count": 63,
     "metadata": {},
     "output_type": "execute_result"
    }
   ],
   "source": [
    "## Per school average math score\n",
    "\n",
    "## Conversion to ineteger so values can be used for calculations\n",
    "school_data_complete['math_score'] = pd.to_numeric(school_data_complete['math_score'])\n",
    "per_school_math = school_data_complete.groupby('school_name')['math_score'].mean()\n",
    "per_school_math_two = per_school_math.round().tolist()\n",
    "per_school_math_two"
   ]
  },
  {
   "cell_type": "code",
   "execution_count": 65,
   "id": "fa6c1d8c-5481-4904-822c-cf324de5cf36",
   "metadata": {},
   "outputs": [
    {
     "data": {
      "text/plain": [
       "[81.0,\n",
       " 84.0,\n",
       " 81.0,\n",
       " 81.0,\n",
       " 84.0,\n",
       " 81.0,\n",
       " 84.0,\n",
       " 81.0,\n",
       " 81.0,\n",
       " 84.0,\n",
       " 81.0,\n",
       " 84.0,\n",
       " 84.0,\n",
       " 84.0,\n",
       " 84.0]"
      ]
     },
     "execution_count": 65,
     "metadata": {},
     "output_type": "execute_result"
    }
   ],
   "source": [
    "## Per school average reading score\n",
    "\n",
    "## Conversion to ineteger so values can be used for calculations\n",
    "school_data_complete['reading_score'] = pd.to_numeric(school_data_complete['reading_score'])\n",
    "per_school_reading = school_data_complete.groupby('school_name')['reading_score'].mean()\n",
    "per_school_reading_two = (per_school_reading.round()).tolist()\n",
    "per_school_reading_two"
   ]
  },
  {
   "cell_type": "code",
   "execution_count": 99,
   "id": "f5e6691a-5f22-43d9-8601-635a66613aae",
   "metadata": {},
   "outputs": [
    {
     "name": "stdout",
     "output_type": "stream",
     "text": [
      "<class 'pandas.core.frame.DataFrame'>\n",
      "RangeIndex: 39170 entries, 0 to 39169\n",
      "Data columns (total 11 columns):\n",
      " #   Column         Non-Null Count  Dtype \n",
      "---  ------         --------------  ----- \n",
      " 0   Student ID     39170 non-null  int64 \n",
      " 1   student_name   39170 non-null  object\n",
      " 2   gender         39170 non-null  object\n",
      " 3   grade          39170 non-null  object\n",
      " 4   school_name    39170 non-null  object\n",
      " 5   reading_score  39170 non-null  int64 \n",
      " 6   math_score     39170 non-null  int64 \n",
      " 7   School ID      39170 non-null  int64 \n",
      " 8   type           39170 non-null  object\n",
      " 9   size           39170 non-null  int64 \n",
      " 10  budget         39170 non-null  int64 \n",
      "dtypes: int64(6), object(5)\n",
      "memory usage: 3.3+ MB\n"
     ]
    }
   ],
   "source": [
    "## Changing columns into proper datatypes\n",
    "#school_data_complete.info()\n",
    "school_data_complete['math_score'] = school_data_complete['math_score'].astype('int64')\n",
    "school_data_complete.info()"
   ]
  },
  {
   "cell_type": "code",
   "execution_count": 149,
   "id": "aa95fa24-4210-4523-a5cf-f5f48fe1a1a4",
   "metadata": {},
   "outputs": [
    {
     "data": {
      "text/plain": [
       "school_name\n",
       "Bailey High School       67.0\n",
       "Cabrera High School      94.0\n",
       "Figueroa High School     66.0\n",
       "Ford High School         68.0\n",
       "Griffin High School      93.0\n",
       "Hernandez High School    67.0\n",
       "Holden High School       93.0\n",
       "Huang High School        66.0\n",
       "Johnson High School      66.0\n",
       "Pena High School         95.0\n",
       "Rodriguez High School    66.0\n",
       "Shelton High School      94.0\n",
       "Thomas High School       93.0\n",
       "Wilson High School       94.0\n",
       "Wright High School       93.0\n",
       "Name: percent_passing_math, dtype: float64"
      ]
     },
     "execution_count": 149,
     "metadata": {},
     "output_type": "execute_result"
    }
   ],
   "source": [
    "## Per school average passing math\n",
    "\n",
    "per_school_pass_math = school_data_complete.assign(percent_passing_math=school_data_complete['math_score'] >= 70)\\\n",
    "                                          .groupby('school_name')['percent_passing_math']\\\n",
    "                                          .mean() * 100\n",
    "per_school_pass_math_r = per_school_pass_math.round()\n",
    "per_school_pass_math_r"
   ]
  },
  {
   "cell_type": "code",
   "execution_count": 151,
   "id": "be99f8c1-8c96-45e5-b8f6-fec60018ff62",
   "metadata": {},
   "outputs": [
    {
     "data": {
      "text/plain": [
       "school_name\n",
       "Bailey High School       82.0\n",
       "Cabrera High School      97.0\n",
       "Figueroa High School     81.0\n",
       "Ford High School         79.0\n",
       "Griffin High School      97.0\n",
       "Hernandez High School    81.0\n",
       "Holden High School       96.0\n",
       "Huang High School        81.0\n",
       "Johnson High School      81.0\n",
       "Pena High School         96.0\n",
       "Rodriguez High School    80.0\n",
       "Shelton High School      96.0\n",
       "Thomas High School       97.0\n",
       "Wilson High School       97.0\n",
       "Wright High School       97.0\n",
       "Name: percent_passing_reading, dtype: float64"
      ]
     },
     "execution_count": 151,
     "metadata": {},
     "output_type": "execute_result"
    }
   ],
   "source": [
    "## Per school average passing reading\n",
    "\n",
    "per_school_pass_reading = school_data_complete.assign(percent_passing_reading=school_data_complete['reading_score'] >= 70)\\\n",
    "                                          .groupby('school_name')['percent_passing_reading']\\\n",
    "                                          .mean() * 100\n",
    "per_school_pass_reading_r = per_school_pass_reading.round()\n",
    "per_school_pass_reading_r"
   ]
  },
  {
   "cell_type": "code",
   "execution_count": 157,
   "id": "a88b615b-37ef-41b2-8f2e-c5fc84de0b64",
   "metadata": {},
   "outputs": [
    {
     "data": {
      "text/plain": [
       "school_name\n",
       "Bailey High School       55.0\n",
       "Cabrera High School      91.0\n",
       "Figueroa High School     53.0\n",
       "Ford High School         54.0\n",
       "Griffin High School      91.0\n",
       "Hernandez High School    54.0\n",
       "Holden High School       89.0\n",
       "Huang High School        54.0\n",
       "Johnson High School      54.0\n",
       "Pena High School         91.0\n",
       "Rodriguez High School    53.0\n",
       "Shelton High School      90.0\n",
       "Thomas High School       91.0\n",
       "Wilson High School       91.0\n",
       "Wright High School       90.0\n",
       "Name: percent_passing_all, dtype: float64"
      ]
     },
     "execution_count": 157,
     "metadata": {},
     "output_type": "execute_result"
    }
   ],
   "source": [
    "## Per school average passing both subjects\n",
    "\n",
    "per_school_pass_all = school_data_complete.assign(percent_passing_all=(school_data_complete['reading_score'] >= 70) & (school_data_complete['math_score'] >= 70)) \\\n",
    "                                          .groupby('school_name')['percent_passing_all'] \\\n",
    "                                          .mean() * 100\n",
    "per_school_pass_all_r = per_school_pass_all.round()\n",
    "per_school_pass_all_r"
   ]
  },
  {
   "cell_type": "code",
   "execution_count": 107,
   "id": "10246b78-eb53-4612-b077-8e569a200c2a",
   "metadata": {
    "scrolled": true
   },
   "outputs": [],
   "source": []
  },
  {
   "cell_type": "code",
   "execution_count": 159,
   "id": "2f671468-6ecd-4703-bfa7-6e5c552096b6",
   "metadata": {},
   "outputs": [
    {
     "data": {
      "text/html": [
       "<div>\n",
       "<style scoped>\n",
       "    .dataframe tbody tr th:only-of-type {\n",
       "        vertical-align: middle;\n",
       "    }\n",
       "\n",
       "    .dataframe tbody tr th {\n",
       "        vertical-align: top;\n",
       "    }\n",
       "\n",
       "    .dataframe thead th {\n",
       "        text-align: right;\n",
       "    }\n",
       "</style>\n",
       "<table border=\"1\" class=\"dataframe\">\n",
       "  <thead>\n",
       "    <tr style=\"text-align: right;\">\n",
       "      <th></th>\n",
       "      <th>School Type</th>\n",
       "      <th>Total Students</th>\n",
       "      <th>Total School Budget</th>\n",
       "      <th>Per Capita Budget</th>\n",
       "      <th>Average Math Score</th>\n",
       "      <th>Average Reading Score</th>\n",
       "      <th>Percent Passing Math</th>\n",
       "      <th>Percent Passing Reading</th>\n",
       "      <th>Percent Passing All</th>\n",
       "    </tr>\n",
       "    <tr>\n",
       "      <th>School Name</th>\n",
       "      <th></th>\n",
       "      <th></th>\n",
       "      <th></th>\n",
       "      <th></th>\n",
       "      <th></th>\n",
       "      <th></th>\n",
       "      <th></th>\n",
       "      <th></th>\n",
       "      <th></th>\n",
       "    </tr>\n",
       "  </thead>\n",
       "  <tbody>\n",
       "    <tr>\n",
       "      <th>Huang High School</th>\n",
       "      <td>District</td>\n",
       "      <td>4976</td>\n",
       "      <td>3124928.0</td>\n",
       "      <td>628.0</td>\n",
       "      <td>77.0</td>\n",
       "      <td>81.0</td>\n",
       "      <td>67.0</td>\n",
       "      <td>82.0</td>\n",
       "      <td>55.0</td>\n",
       "    </tr>\n",
       "    <tr>\n",
       "      <th>Figueroa High School</th>\n",
       "      <td>District</td>\n",
       "      <td>4761</td>\n",
       "      <td>1081356.0</td>\n",
       "      <td>582.0</td>\n",
       "      <td>83.0</td>\n",
       "      <td>84.0</td>\n",
       "      <td>94.0</td>\n",
       "      <td>97.0</td>\n",
       "      <td>91.0</td>\n",
       "    </tr>\n",
       "    <tr>\n",
       "      <th>Shelton High School</th>\n",
       "      <td>Charter</td>\n",
       "      <td>4635</td>\n",
       "      <td>1884411.0</td>\n",
       "      <td>639.0</td>\n",
       "      <td>77.0</td>\n",
       "      <td>81.0</td>\n",
       "      <td>66.0</td>\n",
       "      <td>81.0</td>\n",
       "      <td>53.0</td>\n",
       "    </tr>\n",
       "    <tr>\n",
       "      <th>Hernandez High School</th>\n",
       "      <td>District</td>\n",
       "      <td>3999</td>\n",
       "      <td>1763916.0</td>\n",
       "      <td>644.0</td>\n",
       "      <td>77.0</td>\n",
       "      <td>81.0</td>\n",
       "      <td>68.0</td>\n",
       "      <td>79.0</td>\n",
       "      <td>54.0</td>\n",
       "    </tr>\n",
       "    <tr>\n",
       "      <th>Griffin High School</th>\n",
       "      <td>Charter</td>\n",
       "      <td>2949</td>\n",
       "      <td>917500.0</td>\n",
       "      <td>625.0</td>\n",
       "      <td>83.0</td>\n",
       "      <td>84.0</td>\n",
       "      <td>93.0</td>\n",
       "      <td>97.0</td>\n",
       "      <td>91.0</td>\n",
       "    </tr>\n",
       "    <tr>\n",
       "      <th>Wilson High School</th>\n",
       "      <td>Charter</td>\n",
       "      <td>2917</td>\n",
       "      <td>3022020.0</td>\n",
       "      <td>652.0</td>\n",
       "      <td>77.0</td>\n",
       "      <td>81.0</td>\n",
       "      <td>67.0</td>\n",
       "      <td>81.0</td>\n",
       "      <td>54.0</td>\n",
       "    </tr>\n",
       "    <tr>\n",
       "      <th>Cabrera High School</th>\n",
       "      <td>Charter</td>\n",
       "      <td>2739</td>\n",
       "      <td>248087.0</td>\n",
       "      <td>581.0</td>\n",
       "      <td>84.0</td>\n",
       "      <td>84.0</td>\n",
       "      <td>93.0</td>\n",
       "      <td>96.0</td>\n",
       "      <td>89.0</td>\n",
       "    </tr>\n",
       "    <tr>\n",
       "      <th>Bailey High School</th>\n",
       "      <td>District</td>\n",
       "      <td>2283</td>\n",
       "      <td>1910635.0</td>\n",
       "      <td>655.0</td>\n",
       "      <td>77.0</td>\n",
       "      <td>81.0</td>\n",
       "      <td>66.0</td>\n",
       "      <td>81.0</td>\n",
       "      <td>54.0</td>\n",
       "    </tr>\n",
       "    <tr>\n",
       "      <th>Holden High School</th>\n",
       "      <td>Charter</td>\n",
       "      <td>1858</td>\n",
       "      <td>3094650.0</td>\n",
       "      <td>650.0</td>\n",
       "      <td>77.0</td>\n",
       "      <td>81.0</td>\n",
       "      <td>66.0</td>\n",
       "      <td>81.0</td>\n",
       "      <td>54.0</td>\n",
       "    </tr>\n",
       "    <tr>\n",
       "      <th>Pena High School</th>\n",
       "      <td>Charter</td>\n",
       "      <td>1800</td>\n",
       "      <td>585858.0</td>\n",
       "      <td>609.0</td>\n",
       "      <td>84.0</td>\n",
       "      <td>84.0</td>\n",
       "      <td>95.0</td>\n",
       "      <td>96.0</td>\n",
       "      <td>91.0</td>\n",
       "    </tr>\n",
       "    <tr>\n",
       "      <th>Wright High School</th>\n",
       "      <td>Charter</td>\n",
       "      <td>1761</td>\n",
       "      <td>2547363.0</td>\n",
       "      <td>637.0</td>\n",
       "      <td>77.0</td>\n",
       "      <td>81.0</td>\n",
       "      <td>66.0</td>\n",
       "      <td>80.0</td>\n",
       "      <td>53.0</td>\n",
       "    </tr>\n",
       "    <tr>\n",
       "      <th>Rodriguez High School</th>\n",
       "      <td>District</td>\n",
       "      <td>1635</td>\n",
       "      <td>1056600.0</td>\n",
       "      <td>600.0</td>\n",
       "      <td>83.0</td>\n",
       "      <td>84.0</td>\n",
       "      <td>94.0</td>\n",
       "      <td>96.0</td>\n",
       "      <td>90.0</td>\n",
       "    </tr>\n",
       "    <tr>\n",
       "      <th>Johnson High School</th>\n",
       "      <td>District</td>\n",
       "      <td>1468</td>\n",
       "      <td>1043130.0</td>\n",
       "      <td>638.0</td>\n",
       "      <td>83.0</td>\n",
       "      <td>84.0</td>\n",
       "      <td>93.0</td>\n",
       "      <td>97.0</td>\n",
       "      <td>91.0</td>\n",
       "    </tr>\n",
       "    <tr>\n",
       "      <th>Ford High School</th>\n",
       "      <td>District</td>\n",
       "      <td>962</td>\n",
       "      <td>1319574.0</td>\n",
       "      <td>578.0</td>\n",
       "      <td>83.0</td>\n",
       "      <td>84.0</td>\n",
       "      <td>94.0</td>\n",
       "      <td>97.0</td>\n",
       "      <td>91.0</td>\n",
       "    </tr>\n",
       "    <tr>\n",
       "      <th>Thomas High School</th>\n",
       "      <td>Charter</td>\n",
       "      <td>427</td>\n",
       "      <td>1049400.0</td>\n",
       "      <td>583.0</td>\n",
       "      <td>84.0</td>\n",
       "      <td>84.0</td>\n",
       "      <td>93.0</td>\n",
       "      <td>97.0</td>\n",
       "      <td>90.0</td>\n",
       "    </tr>\n",
       "  </tbody>\n",
       "</table>\n",
       "</div>"
      ],
      "text/plain": [
       "                      School Type  Total Students  Total School Budget  \\\n",
       "School Name                                                              \n",
       "Huang High School        District            4976            3124928.0   \n",
       "Figueroa High School     District            4761            1081356.0   \n",
       "Shelton High School       Charter            4635            1884411.0   \n",
       "Hernandez High School    District            3999            1763916.0   \n",
       "Griffin High School       Charter            2949             917500.0   \n",
       "Wilson High School        Charter            2917            3022020.0   \n",
       "Cabrera High School       Charter            2739             248087.0   \n",
       "Bailey High School       District            2283            1910635.0   \n",
       "Holden High School        Charter            1858            3094650.0   \n",
       "Pena High School          Charter            1800             585858.0   \n",
       "Wright High School        Charter            1761            2547363.0   \n",
       "Rodriguez High School    District            1635            1056600.0   \n",
       "Johnson High School      District            1468            1043130.0   \n",
       "Ford High School         District             962            1319574.0   \n",
       "Thomas High School        Charter             427            1049400.0   \n",
       "\n",
       "                       Per Capita Budget  Average Math Score  \\\n",
       "School Name                                                    \n",
       "Huang High School                  628.0                77.0   \n",
       "Figueroa High School               582.0                83.0   \n",
       "Shelton High School                639.0                77.0   \n",
       "Hernandez High School              644.0                77.0   \n",
       "Griffin High School                625.0                83.0   \n",
       "Wilson High School                 652.0                77.0   \n",
       "Cabrera High School                581.0                84.0   \n",
       "Bailey High School                 655.0                77.0   \n",
       "Holden High School                 650.0                77.0   \n",
       "Pena High School                   609.0                84.0   \n",
       "Wright High School                 637.0                77.0   \n",
       "Rodriguez High School              600.0                83.0   \n",
       "Johnson High School                638.0                83.0   \n",
       "Ford High School                   578.0                83.0   \n",
       "Thomas High School                 583.0                84.0   \n",
       "\n",
       "                       Average Reading Score  Percent Passing Math  \\\n",
       "School Name                                                          \n",
       "Huang High School                       81.0                  67.0   \n",
       "Figueroa High School                    84.0                  94.0   \n",
       "Shelton High School                     81.0                  66.0   \n",
       "Hernandez High School                   81.0                  68.0   \n",
       "Griffin High School                     84.0                  93.0   \n",
       "Wilson High School                      81.0                  67.0   \n",
       "Cabrera High School                     84.0                  93.0   \n",
       "Bailey High School                      81.0                  66.0   \n",
       "Holden High School                      81.0                  66.0   \n",
       "Pena High School                        84.0                  95.0   \n",
       "Wright High School                      81.0                  66.0   \n",
       "Rodriguez High School                   84.0                  94.0   \n",
       "Johnson High School                     84.0                  93.0   \n",
       "Ford High School                        84.0                  94.0   \n",
       "Thomas High School                      84.0                  93.0   \n",
       "\n",
       "                       Percent Passing Reading  Percent Passing All  \n",
       "School Name                                                          \n",
       "Huang High School                         82.0                 55.0  \n",
       "Figueroa High School                      97.0                 91.0  \n",
       "Shelton High School                       81.0                 53.0  \n",
       "Hernandez High School                     79.0                 54.0  \n",
       "Griffin High School                       97.0                 91.0  \n",
       "Wilson High School                        81.0                 54.0  \n",
       "Cabrera High School                       96.0                 89.0  \n",
       "Bailey High School                        81.0                 54.0  \n",
       "Holden High School                        81.0                 54.0  \n",
       "Pena High School                          96.0                 91.0  \n",
       "Wright High School                        80.0                 53.0  \n",
       "Rodriguez High School                     96.0                 90.0  \n",
       "Johnson High School                       97.0                 91.0  \n",
       "Ford High School                          97.0                 91.0  \n",
       "Thomas High School                        97.0                 90.0  "
      ]
     },
     "execution_count": 159,
     "metadata": {},
     "output_type": "execute_result"
    }
   ],
   "source": [
    "# Create the per_school_summary DataFrame\n",
    "per_school_summary = pd.DataFrame({\n",
    "    \"School Name\": unique_schools,\n",
    "    \"School Type\": per_school_type,\n",
    "    \"Total Students\": per_school_students_one,\n",
    "    \"Total School Budget\": per_school_budget['budget'],\n",
    "    \"Per Capita Budget\": per_capita_budget,\n",
    "    \"Average Math Score\": per_school_math_two,\n",
    "    \"Average Reading Score\": per_school_reading_two,\n",
    "    \"Percent Passing Math\": per_school_pass_math_r,\n",
    "    \"Percent Passing Reading\": per_school_pass_reading_r,\n",
    "    \"Percent Passing All\": per_school_pass_all_r\n",
    "})\n",
    "#per_school_summary\n",
    "## Filter by 'School Name\"\n",
    "updated_summary_df = per_school_summary.set_index(\"School Name\")\n",
    "updated_summary_df"
   ]
  },
  {
   "cell_type": "code",
   "execution_count": null,
   "id": "6158f14a-feba-485a-a7b8-ee20ea92fe30",
   "metadata": {},
   "outputs": [],
   "source": []
  },
  {
   "cell_type": "code",
   "execution_count": null,
   "id": "16b9888c-943c-4db5-af7f-03cf9c933639",
   "metadata": {},
   "outputs": [],
   "source": []
  },
  {
   "cell_type": "code",
   "execution_count": null,
   "id": "8b880c1e-d1fa-4b57-a278-7abf301a58c4",
   "metadata": {},
   "outputs": [],
   "source": []
  }
 ],
 "metadata": {
  "kernelspec": {
   "display_name": "Python 3 (ipykernel)",
   "language": "python",
   "name": "python3"
  },
  "language_info": {
   "codemirror_mode": {
    "name": "ipython",
    "version": 3
   },
   "file_extension": ".py",
   "mimetype": "text/x-python",
   "name": "python",
   "nbconvert_exporter": "python",
   "pygments_lexer": "ipython3",
   "version": "3.11.7"
  }
 },
 "nbformat": 4,
 "nbformat_minor": 5
}
