{
 "cells": [
  {
   "cell_type": "code",
   "execution_count": null,
   "id": "cbd0548b-f537-492c-9120-5d80dea7b27f",
   "metadata": {},
   "outputs": [],
   "source": []
  },
  {
   "cell_type": "code",
   "execution_count": 312,
   "id": "51a0e60e-7316-4e33-8e20-b7057a579689",
   "metadata": {},
   "outputs": [],
   "source": [
    "## Importing dependencies \n",
    "import pandas as pd\n",
    "import os"
   ]
  },
  {
   "cell_type": "code",
   "execution_count": 314,
   "id": "00f718ea-f77d-4f03-8bda-795d697f4602",
   "metadata": {},
   "outputs": [
    {
     "data": {
      "text/html": [
       "<div>\n",
       "<style scoped>\n",
       "    .dataframe tbody tr th:only-of-type {\n",
       "        vertical-align: middle;\n",
       "    }\n",
       "\n",
       "    .dataframe tbody tr th {\n",
       "        vertical-align: top;\n",
       "    }\n",
       "\n",
       "    .dataframe thead th {\n",
       "        text-align: right;\n",
       "    }\n",
       "</style>\n",
       "<table border=\"1\" class=\"dataframe\">\n",
       "  <thead>\n",
       "    <tr style=\"text-align: right;\">\n",
       "      <th></th>\n",
       "      <th>Student ID</th>\n",
       "      <th>student_name</th>\n",
       "      <th>gender</th>\n",
       "      <th>grade</th>\n",
       "      <th>school_name</th>\n",
       "      <th>reading_score</th>\n",
       "      <th>math_score</th>\n",
       "      <th>School ID</th>\n",
       "      <th>type</th>\n",
       "      <th>size</th>\n",
       "      <th>budget</th>\n",
       "    </tr>\n",
       "  </thead>\n",
       "  <tbody>\n",
       "    <tr>\n",
       "      <th>0</th>\n",
       "      <td>0</td>\n",
       "      <td>Paul Bradley</td>\n",
       "      <td>M</td>\n",
       "      <td>9th</td>\n",
       "      <td>Huang High School</td>\n",
       "      <td>66</td>\n",
       "      <td>79</td>\n",
       "      <td>0</td>\n",
       "      <td>District</td>\n",
       "      <td>2917</td>\n",
       "      <td>1910635</td>\n",
       "    </tr>\n",
       "    <tr>\n",
       "      <th>1</th>\n",
       "      <td>1</td>\n",
       "      <td>Victor Smith</td>\n",
       "      <td>M</td>\n",
       "      <td>12th</td>\n",
       "      <td>Huang High School</td>\n",
       "      <td>94</td>\n",
       "      <td>61</td>\n",
       "      <td>0</td>\n",
       "      <td>District</td>\n",
       "      <td>2917</td>\n",
       "      <td>1910635</td>\n",
       "    </tr>\n",
       "    <tr>\n",
       "      <th>2</th>\n",
       "      <td>2</td>\n",
       "      <td>Kevin Rodriguez</td>\n",
       "      <td>M</td>\n",
       "      <td>12th</td>\n",
       "      <td>Huang High School</td>\n",
       "      <td>90</td>\n",
       "      <td>60</td>\n",
       "      <td>0</td>\n",
       "      <td>District</td>\n",
       "      <td>2917</td>\n",
       "      <td>1910635</td>\n",
       "    </tr>\n",
       "    <tr>\n",
       "      <th>3</th>\n",
       "      <td>3</td>\n",
       "      <td>Dr. Richard Scott</td>\n",
       "      <td>M</td>\n",
       "      <td>12th</td>\n",
       "      <td>Huang High School</td>\n",
       "      <td>67</td>\n",
       "      <td>58</td>\n",
       "      <td>0</td>\n",
       "      <td>District</td>\n",
       "      <td>2917</td>\n",
       "      <td>1910635</td>\n",
       "    </tr>\n",
       "    <tr>\n",
       "      <th>4</th>\n",
       "      <td>4</td>\n",
       "      <td>Bonnie Ray</td>\n",
       "      <td>F</td>\n",
       "      <td>9th</td>\n",
       "      <td>Huang High School</td>\n",
       "      <td>97</td>\n",
       "      <td>84</td>\n",
       "      <td>0</td>\n",
       "      <td>District</td>\n",
       "      <td>2917</td>\n",
       "      <td>1910635</td>\n",
       "    </tr>\n",
       "  </tbody>\n",
       "</table>\n",
       "</div>"
      ],
      "text/plain": [
       "   Student ID       student_name gender grade        school_name  \\\n",
       "0           0       Paul Bradley      M   9th  Huang High School   \n",
       "1           1       Victor Smith      M  12th  Huang High School   \n",
       "2           2    Kevin Rodriguez      M  12th  Huang High School   \n",
       "3           3  Dr. Richard Scott      M  12th  Huang High School   \n",
       "4           4         Bonnie Ray      F   9th  Huang High School   \n",
       "\n",
       "   reading_score  math_score  School ID      type  size   budget  \n",
       "0             66          79          0  District  2917  1910635  \n",
       "1             94          61          0  District  2917  1910635  \n",
       "2             90          60          0  District  2917  1910635  \n",
       "3             67          58          0  District  2917  1910635  \n",
       "4             97          84          0  District  2917  1910635  "
      ]
     },
     "execution_count": 314,
     "metadata": {},
     "output_type": "execute_result"
    }
   ],
   "source": [
    "## Importing in CSV files\n",
    "school_data_csv = \"Resources/schools_complete.csv\"\n",
    "student_data_csv =  \"Resources/students_complete.csv\"\n",
    "\n",
    "## Reading in CSV files and convert into Pandas dataframes\n",
    "school_data_df = pd.read_csv(school_data_csv)\n",
    "student_data_df = pd.read_csv(student_data_csv)\n",
    "\n",
    "## Merging the dataframes\n",
    "school_data_complete = pd.merge(student_data_df, school_data_df, how=\"left\", on=[\"school_name\", \"school_name\"])\n",
    "school_data_complete.head()\n"
   ]
  },
  {
   "cell_type": "code",
   "execution_count": 316,
   "id": "da82bad3-e66f-4ad0-ad8d-2c37c5d7a8b9",
   "metadata": {},
   "outputs": [
    {
     "data": {
      "text/plain": [
       "Student ID       39170\n",
       "student_name     39170\n",
       "gender           39170\n",
       "grade            39170\n",
       "school_name      39170\n",
       "reading_score    39170\n",
       "math_score       39170\n",
       "School ID        39170\n",
       "type             39170\n",
       "size             39170\n",
       "budget           39170\n",
       "dtype: int64"
      ]
     },
     "execution_count": 316,
     "metadata": {},
     "output_type": "execute_result"
    }
   ],
   "source": [
    "## Verifying data is clean\n",
    "school_data_complete.count()"
   ]
  },
  {
   "cell_type": "code",
   "execution_count": 318,
   "id": "2ef0414e-e138-4a15-aa8c-00c9fdf5ba2a",
   "metadata": {},
   "outputs": [
    {
     "name": "stdout",
     "output_type": "stream",
     "text": [
      "    School ID            school_name      type  size   budget\n",
      "0           0      Huang High School  District  2917  1910635\n",
      "1           1   Figueroa High School  District  2949  1884411\n",
      "2           2    Shelton High School   Charter  1761  1056600\n",
      "3           3  Hernandez High School  District  4635  3022020\n",
      "4           4    Griffin High School   Charter  1468   917500\n",
      "5           5     Wilson High School   Charter  2283  1319574\n",
      "6           6    Cabrera High School   Charter  1858  1081356\n",
      "7           7     Bailey High School  District  4976  3124928\n",
      "8           8     Holden High School   Charter   427   248087\n",
      "9           9       Pena High School   Charter   962   585858\n",
      "10         10     Wright High School   Charter  1800  1049400\n",
      "11         11  Rodriguez High School  District  3999  2547363\n",
      "12         12    Johnson High School  District  4761  3094650\n",
      "13         13       Ford High School  District  2739  1763916\n",
      "14         14     Thomas High School   Charter  1635  1043130\n",
      "Total number of unique schools: 15\n"
     ]
    }
   ],
   "source": [
    "## Total number of unique schools\n",
    "\n",
    "## Printing out school dataframe to view all the school names\n",
    "print(school_data_df)\n",
    "## Counting the rows so row 0 is also included in the total\n",
    "#school_data_df.count()\n",
    "unique_schools = 15\n",
    "\n",
    "print(f\"Total number of unique schools: {unique_schools}\")"
   ]
  },
  {
   "cell_type": "code",
   "execution_count": 320,
   "id": "3ac78302-8b03-435e-9d94-0ed384bd4a8f",
   "metadata": {},
   "outputs": [
    {
     "name": "stdout",
     "output_type": "stream",
     "text": [
      "Total number of students: 39170\n"
     ]
    }
   ],
   "source": [
    "## Total students\n",
    "\n",
    "## Counting each student ID\n",
    "student_data_df.count()\n",
    "\n",
    "total_students = 39170\n",
    "print(f\"Total number of students: {39170}\")"
   ]
  },
  {
   "cell_type": "code",
   "execution_count": 322,
   "id": "b0b4f14c-e398-49bb-826c-2d9b64197a91",
   "metadata": {},
   "outputs": [
    {
     "name": "stdout",
     "output_type": "stream",
     "text": [
      "Total budget: $24649428\n"
     ]
    }
   ],
   "source": [
    "## Total budget\n",
    "\n",
    "## Adding the budget for each school together\n",
    "total_budget = school_data_df['budget'].sum()\n",
    "#print(total_budget)\n",
    "\n",
    "print(f\"Total budget: ${total_budget}\")"
   ]
  },
  {
   "cell_type": "code",
   "execution_count": 324,
   "id": "4112832a-bbd9-4f26-8f50-ec649f74d04e",
   "metadata": {},
   "outputs": [
    {
     "name": "stdout",
     "output_type": "stream",
     "text": [
      "Average math score: 79.0\n"
     ]
    }
   ],
   "source": [
    "## Average math score\n",
    "\n",
    "## Finding the average math score, then rounding to the nearest whole #\n",
    "average_math = (school_data_complete['math_score'].mean()).round()\n",
    "#print(average_math)\n",
    "\n",
    "print(f\"Average math score: {average_math}\")"
   ]
  },
  {
   "cell_type": "code",
   "execution_count": 326,
   "id": "2a83c13b-a6c4-4c4b-a16b-5b176fae2487",
   "metadata": {},
   "outputs": [
    {
     "name": "stdout",
     "output_type": "stream",
     "text": [
      "Average reading score: 82.0\n"
     ]
    }
   ],
   "source": [
    "## Average reading score\n",
    "\n",
    "## Finding the average reading score, then rounding to the nearest whole #\n",
    "average_reading = (school_data_complete['reading_score'].mean()).round()\n",
    "#print(average_reading)\n",
    "\n",
    "print(f\"Average reading score: {average_reading}\")"
   ]
  },
  {
   "cell_type": "code",
   "execution_count": 328,
   "id": "73edfa69-abc7-4b7e-bfe4-5b4f05b9afb6",
   "metadata": {},
   "outputs": [
    {
     "name": "stdout",
     "output_type": "stream",
     "text": [
      "Average passing math: 75%\n"
     ]
    }
   ],
   "source": [
    "## % passing math (the percentage of students who passed math)\n",
    "\n",
    "## Sorting to find students that passed math\n",
    "math_pass = school_data_complete.loc[school_data_complete['math_score'] >= 70]\n",
    "#print(math_pass)\n",
    "#percent_pass_math = math_pass.mean()\n",
    "## Counts how many students are in the new variable\n",
    "math_pass.count()\n",
    "## Setting a variable to hold the # of passing students for math\n",
    "student_math_pass = 29370\n",
    "\n",
    "## Finding the average\n",
    "average_math_pass = ((student_math_pass/total_students)*100)\n",
    "r_average_math_pass = round(average_math_pass)\n",
    "#print(r_average_math_pass)\n",
    "\n",
    "print(f\"Average passing math: {r_average_math_pass}%\")"
   ]
  },
  {
   "cell_type": "code",
   "execution_count": 73,
   "id": "773687f6-7d6a-43b3-9ccf-a9427e7191d3",
   "metadata": {},
   "outputs": [
    {
     "name": "stdout",
     "output_type": "stream",
     "text": [
      "Average passing reading: 86%\n"
     ]
    }
   ],
   "source": [
    "## % passing reading (the percentage of students who passed reading)\n",
    "\n",
    "## Sorting to find students that passed reading\n",
    "reading_pass = school_data_complete.loc[school_data_complete['reading_score'] >= 70]\n",
    "#print(reading_pass)\n",
    "#percent_pass_reading = reading_pass.mean()\n",
    "## Counts how many students are in the new variable\n",
    "reading_pass.count()\n",
    "## Setting a variable to hold the # of passing students for reeading\n",
    "student_reading_pass = 33610\n",
    "\n",
    "## Finding the average\n",
    "average_reading_pass = ((student_reading_pass/total_students)*100)\n",
    "r_average_reading_pass = round(average_reading_pass)\n",
    "#print(r_average_reading_pass)\n",
    "\n",
    "print(f\"Average passing reading: {r_average_reading_pass}%\")"
   ]
  },
  {
   "cell_type": "code",
   "execution_count": 330,
   "id": "f1a4635f-4781-46f5-902a-ac0b1855fd5d",
   "metadata": {},
   "outputs": [
    {
     "name": "stdout",
     "output_type": "stream",
     "text": [
      "Overall passing: 65%\n"
     ]
    }
   ],
   "source": [
    "## % overall passing (the percentage of students who passed math AND reading)\n",
    "\n",
    "## Sorting to find students that passed reading and math\n",
    "all_pass = school_data_complete.loc[(school_data_complete['math_score'] >= 70) &\n",
    "    (school_data_complete['reading_score'] >=70)]\n",
    "## Counts how many students passed both subjects\n",
    "all_pass.count()\n",
    "total_all_pass = 25528\n",
    "\n",
    "## Finding the average\n",
    "average_all_pass = ((total_all_pass/total_students)*100)\n",
    "r_average_all_pass = round(average_all_pass)\n",
    "#print(r_average_all_pass)\n",
    "\n",
    "print(f\"Overall passing: {r_average_all_pass}%\") \n"
   ]
  },
  {
   "cell_type": "code",
   "execution_count": 332,
   "id": "d7000d43-08d1-46aa-8e34-e595ebdf7cb5",
   "metadata": {},
   "outputs": [
    {
     "data": {
      "text/html": [
       "<div>\n",
       "<style scoped>\n",
       "    .dataframe tbody tr th:only-of-type {\n",
       "        vertical-align: middle;\n",
       "    }\n",
       "\n",
       "    .dataframe tbody tr th {\n",
       "        vertical-align: top;\n",
       "    }\n",
       "\n",
       "    .dataframe thead th {\n",
       "        text-align: right;\n",
       "    }\n",
       "</style>\n",
       "<table border=\"1\" class=\"dataframe\">\n",
       "  <thead>\n",
       "    <tr style=\"text-align: right;\">\n",
       "      <th></th>\n",
       "      <th>Total Schools</th>\n",
       "      <th>Total Students</th>\n",
       "      <th>Total Budget</th>\n",
       "      <th>Average Math Score</th>\n",
       "      <th>Average Reading Score</th>\n",
       "      <th>% Passing Math</th>\n",
       "      <th>% Passing Reading</th>\n",
       "      <th>% Overall Passing</th>\n",
       "    </tr>\n",
       "  </thead>\n",
       "  <tbody>\n",
       "    <tr>\n",
       "      <th>0</th>\n",
       "      <td>15</td>\n",
       "      <td>39170</td>\n",
       "      <td>24649428</td>\n",
       "      <td>79.0</td>\n",
       "      <td>82.0</td>\n",
       "      <td>75</td>\n",
       "      <td>86</td>\n",
       "      <td>65</td>\n",
       "    </tr>\n",
       "  </tbody>\n",
       "</table>\n",
       "</div>"
      ],
      "text/plain": [
       "   Total Schools  Total Students  Total Budget  Average Math Score  \\\n",
       "0             15           39170      24649428                79.0   \n",
       "\n",
       "   Average Reading Score  % Passing Math  % Passing Reading  % Overall Passing  \n",
       "0                   82.0              75                 86                 65  "
      ]
     },
     "execution_count": 332,
     "metadata": {},
     "output_type": "execute_result"
    }
   ],
   "source": [
    "## District Summary\n",
    "\n",
    "district_df = pd.DataFrame({\n",
    "    \"Total Schools\": [unique_schools],\n",
    "    \"Total Students\": [total_students],\n",
    "    \"Total Budget\": [total_budget],\n",
    "    \"Average Math Score\": [average_math],\n",
    "    \"Average Reading Score\": [average_reading],\n",
    "    \"% Passing Math\": [r_average_math_pass],\n",
    "    \"% Passing Reading\": [r_average_reading_pass],\n",
    "    \"% Overall Passing\": [r_average_all_pass]})\n",
    "district_df\n",
    "    "
   ]
  },
  {
   "cell_type": "code",
   "execution_count": null,
   "id": "ab54357d-b493-429c-948e-3fe8612d122e",
   "metadata": {},
   "outputs": [],
   "source": []
  },
  {
   "cell_type": "code",
   "execution_count": 334,
   "id": "be10390f-58ab-4179-87b9-a4a7eb13bb3c",
   "metadata": {},
   "outputs": [
    {
     "data": {
      "text/plain": [
       "array(['Huang High School', 'Figueroa High School', 'Shelton High School',\n",
       "       'Hernandez High School', 'Griffin High School',\n",
       "       'Wilson High School', 'Cabrera High School', 'Bailey High School',\n",
       "       'Holden High School', 'Pena High School', 'Wright High School',\n",
       "       'Rodriguez High School', 'Johnson High School', 'Ford High School',\n",
       "       'Thomas High School'], dtype=object)"
      ]
     },
     "execution_count": 334,
     "metadata": {},
     "output_type": "execute_result"
    }
   ],
   "source": [
    "\n",
    "## Listing out all the school names\n",
    "unique_schools = school_data_complete['school_name'].unique()\n",
    "unique_schools\n",
    "\n"
   ]
  },
  {
   "cell_type": "code",
   "execution_count": 336,
   "id": "3dd13788-00c6-4fd7-8d70-c334a4c835f8",
   "metadata": {},
   "outputs": [
    {
     "data": {
      "text/plain": [
       "['District',\n",
       " 'District',\n",
       " 'Charter',\n",
       " 'District',\n",
       " 'Charter',\n",
       " 'Charter',\n",
       " 'Charter',\n",
       " 'District',\n",
       " 'Charter',\n",
       " 'Charter',\n",
       " 'Charter',\n",
       " 'District',\n",
       " 'District',\n",
       " 'District',\n",
       " 'Charter']"
      ]
     },
     "execution_count": 336,
     "metadata": {},
     "output_type": "execute_result"
    }
   ],
   "source": [
    "## Per school type\n",
    "\n",
    "## Finding school types and converting to a list\n",
    "per_school_type = school_data_df['type'].tolist()\n",
    "per_school_type"
   ]
  },
  {
   "cell_type": "code",
   "execution_count": 440,
   "id": "aa01eaa7-a9f2-48c1-99f0-2c037d1952c2",
   "metadata": {},
   "outputs": [
    {
     "data": {
      "text/plain": [
       "[4976,\n",
       " 4761,\n",
       " 4635,\n",
       " 3999,\n",
       " 2949,\n",
       " 2917,\n",
       " 2739,\n",
       " 2283,\n",
       " 1858,\n",
       " 1800,\n",
       " 1761,\n",
       " 1635,\n",
       " 1468,\n",
       " 962,\n",
       " 427]"
      ]
     },
     "execution_count": 440,
     "metadata": {},
     "output_type": "execute_result"
    }
   ],
   "source": [
    "## Per school student total\n",
    "\n",
    "## Finding students for each school then converting to a list\n",
    "per_school_students = school_data_complete['school_name'].value_counts()\n",
    "per_school_students.tolist()"
   ]
  },
  {
   "cell_type": "code",
   "execution_count": 340,
   "id": "06ee4154-3a68-4305-ae15-703b09ae51de",
   "metadata": {},
   "outputs": [
    {
     "data": {
      "text/plain": [
       "[1910635,\n",
       " 1884411,\n",
       " 1056600,\n",
       " 3022020,\n",
       " 917500,\n",
       " 1319574,\n",
       " 1081356,\n",
       " 3124928,\n",
       " 248087,\n",
       " 585858,\n",
       " 1049400,\n",
       " 2547363,\n",
       " 3094650,\n",
       " 1763916,\n",
       " 1043130]"
      ]
     },
     "execution_count": 340,
     "metadata": {},
     "output_type": "execute_result"
    }
   ],
   "source": [
    "## Per school budget\n",
    "\n",
    "## Finding budgets for each school and converting to a list\n",
    "per_school_budget_one = school_data_df['budget'].tolist()\n",
    "per_school_budget_one\n"
   ]
  },
  {
   "cell_type": "code",
   "execution_count": null,
   "id": "7a069816-ba93-4e90-a596-2aa71516349e",
   "metadata": {},
   "outputs": [],
   "source": [
    "per_school_budget = school_data_complete.groupby(['school_name']).mean()['budget']"
   ]
  },
  {
   "cell_type": "code",
   "execution_count": 370,
   "id": "a770b27b-c8d2-44d5-88a3-985ec2cf8ef0",
   "metadata": {},
   "outputs": [
    {
     "data": {
      "text/plain": [
       "[383.97005627009645,\n",
       " 395.8015122873346,\n",
       " 227.96116504854368,\n",
       " 755.6939234808702,\n",
       " 311.12241437775515,\n",
       " 452.3736715803908,\n",
       " 394.79956188389923,\n",
       " 1368.7814279456854,\n",
       " 133.52368137782562,\n",
       " 325.4766666666667,\n",
       " 595.9114139693356,\n",
       " 1558.0201834862385,\n",
       " 2108.0722070844686,\n",
       " 1833.5925155925156,\n",
       " 2442.927400468384]"
      ]
     },
     "execution_count": 370,
     "metadata": {},
     "output_type": "execute_result"
    }
   ],
   "source": [
    "## Per capita budget\n",
    "\n",
    "per_capita_budget = per_school_budget / per_school_students\n",
    "per_capita_budget.tolist()"
   ]
  },
  {
   "cell_type": "code",
   "execution_count": 344,
   "id": "6b22f258-8d49-4293-98da-bd0b400a7731",
   "metadata": {},
   "outputs": [
    {
     "data": {
      "text/plain": [
       "[77.0,\n",
       " 83.0,\n",
       " 77.0,\n",
       " 77.0,\n",
       " 83.0,\n",
       " 77.0,\n",
       " 84.0,\n",
       " 77.0,\n",
       " 77.0,\n",
       " 84.0,\n",
       " 77.0,\n",
       " 83.0,\n",
       " 83.0,\n",
       " 83.0,\n",
       " 84.0]"
      ]
     },
     "execution_count": 344,
     "metadata": {},
     "output_type": "execute_result"
    }
   ],
   "source": [
    "## Per school average math score\n",
    "\n",
    "## Conversion to ineteger so values can be used for calculations\n",
    "school_data_complete['math_score'] = pd.to_numeric(school_data_complete['math_score'])\n",
    "per_school_math = school_data_complete.groupby('school_name')['math_score'].mean()\n",
    "per_school_math.round().tolist()"
   ]
  },
  {
   "cell_type": "code",
   "execution_count": 263,
   "id": "fa6c1d8c-5481-4904-822c-cf324de5cf36",
   "metadata": {},
   "outputs": [
    {
     "data": {
      "text/plain": [
       "[81.0,\n",
       " 84.0,\n",
       " 81.0,\n",
       " 81.0,\n",
       " 84.0,\n",
       " 81.0,\n",
       " 84.0,\n",
       " 81.0,\n",
       " 81.0,\n",
       " 84.0,\n",
       " 81.0,\n",
       " 84.0,\n",
       " 84.0,\n",
       " 84.0,\n",
       " 84.0]"
      ]
     },
     "execution_count": 263,
     "metadata": {},
     "output_type": "execute_result"
    }
   ],
   "source": [
    "## Per school average reading score\n",
    "\n",
    "## Conversion to ineteger so values can be used for calculations\n",
    "school_data_complete['reading_score'] = pd.to_numeric(school_data_complete['reading_score'])\n",
    "per_school_reading = school_data_complete.groupby('school_name')['reading_score'].mean()\n",
    "(per_school_reading.round()).tolist()"
   ]
  },
  {
   "cell_type": "code",
   "execution_count": null,
   "id": "f5e6691a-5f22-43d9-8601-635a66613aae",
   "metadata": {},
   "outputs": [],
   "source": [
    "## \n",
    "\n"
   ]
  },
  {
   "cell_type": "code",
   "execution_count": 426,
   "id": "aa95fa24-4210-4523-a5cf-f5f48fe1a1a4",
   "metadata": {},
   "outputs": [
    {
     "data": {
      "text/html": [
       "<div>\n",
       "<style scoped>\n",
       "    .dataframe tbody tr th:only-of-type {\n",
       "        vertical-align: middle;\n",
       "    }\n",
       "\n",
       "    .dataframe tbody tr th {\n",
       "        vertical-align: top;\n",
       "    }\n",
       "\n",
       "    .dataframe thead th {\n",
       "        text-align: right;\n",
       "    }\n",
       "</style>\n",
       "<table border=\"1\" class=\"dataframe\">\n",
       "  <thead>\n",
       "    <tr style=\"text-align: right;\">\n",
       "      <th></th>\n",
       "      <th>school_name</th>\n",
       "      <th>math_score</th>\n",
       "    </tr>\n",
       "  </thead>\n",
       "  <tbody>\n",
       "    <tr>\n",
       "      <th>0</th>\n",
       "      <td>Huang High School</td>\n",
       "      <td>79</td>\n",
       "    </tr>\n",
       "    <tr>\n",
       "      <th>4</th>\n",
       "      <td>Huang High School</td>\n",
       "      <td>84</td>\n",
       "    </tr>\n",
       "    <tr>\n",
       "      <th>5</th>\n",
       "      <td>Huang High School</td>\n",
       "      <td>94</td>\n",
       "    </tr>\n",
       "    <tr>\n",
       "      <th>6</th>\n",
       "      <td>Huang High School</td>\n",
       "      <td>80</td>\n",
       "    </tr>\n",
       "    <tr>\n",
       "      <th>8</th>\n",
       "      <td>Huang High School</td>\n",
       "      <td>87</td>\n",
       "    </tr>\n",
       "    <tr>\n",
       "      <th>...</th>\n",
       "      <td>...</td>\n",
       "      <td>...</td>\n",
       "    </tr>\n",
       "    <tr>\n",
       "      <th>39165</th>\n",
       "      <td>Thomas High School</td>\n",
       "      <td>90</td>\n",
       "    </tr>\n",
       "    <tr>\n",
       "      <th>39166</th>\n",
       "      <td>Thomas High School</td>\n",
       "      <td>70</td>\n",
       "    </tr>\n",
       "    <tr>\n",
       "      <th>39167</th>\n",
       "      <td>Thomas High School</td>\n",
       "      <td>84</td>\n",
       "    </tr>\n",
       "    <tr>\n",
       "      <th>39168</th>\n",
       "      <td>Thomas High School</td>\n",
       "      <td>90</td>\n",
       "    </tr>\n",
       "    <tr>\n",
       "      <th>39169</th>\n",
       "      <td>Thomas High School</td>\n",
       "      <td>75</td>\n",
       "    </tr>\n",
       "  </tbody>\n",
       "</table>\n",
       "<p>29370 rows × 2 columns</p>\n",
       "</div>"
      ],
      "text/plain": [
       "              school_name  math_score\n",
       "0       Huang High School          79\n",
       "4       Huang High School          84\n",
       "5       Huang High School          94\n",
       "6       Huang High School          80\n",
       "8       Huang High School          87\n",
       "...                   ...         ...\n",
       "39165  Thomas High School          90\n",
       "39166  Thomas High School          70\n",
       "39167  Thomas High School          84\n",
       "39168  Thomas High School          90\n",
       "39169  Thomas High School          75\n",
       "\n",
       "[29370 rows x 2 columns]"
      ]
     },
     "execution_count": 426,
     "metadata": {},
     "output_type": "execute_result"
    }
   ],
   "source": [
    "## Per school average passing math\n",
    "\n",
    "\n",
    "per_school_pass_math = school_data_complete.loc[school_data_complete[\"math_score\"] >= 70]\n",
    "per_school_pass_math[['school_name', 'math_score']]\n",
    "\n",
    "\n"
   ]
  },
  {
   "cell_type": "code",
   "execution_count": 354,
   "id": "be99f8c1-8c96-45e5-b8f6-fec60018ff62",
   "metadata": {},
   "outputs": [
    {
     "data": {
      "text/html": [
       "<div>\n",
       "<style scoped>\n",
       "    .dataframe tbody tr th:only-of-type {\n",
       "        vertical-align: middle;\n",
       "    }\n",
       "\n",
       "    .dataframe tbody tr th {\n",
       "        vertical-align: top;\n",
       "    }\n",
       "\n",
       "    .dataframe thead th {\n",
       "        text-align: right;\n",
       "    }\n",
       "</style>\n",
       "<table border=\"1\" class=\"dataframe\">\n",
       "  <thead>\n",
       "    <tr style=\"text-align: right;\">\n",
       "      <th></th>\n",
       "      <th>Student ID</th>\n",
       "      <th>student_name</th>\n",
       "      <th>gender</th>\n",
       "      <th>grade</th>\n",
       "      <th>school_name</th>\n",
       "      <th>reading_score</th>\n",
       "      <th>math_score</th>\n",
       "      <th>School ID</th>\n",
       "      <th>type</th>\n",
       "      <th>size</th>\n",
       "      <th>budget</th>\n",
       "    </tr>\n",
       "  </thead>\n",
       "  <tbody>\n",
       "    <tr>\n",
       "      <th>1</th>\n",
       "      <td>1</td>\n",
       "      <td>Victor Smith</td>\n",
       "      <td>M</td>\n",
       "      <td>12th</td>\n",
       "      <td>Huang High School</td>\n",
       "      <td>94</td>\n",
       "      <td>61</td>\n",
       "      <td>0</td>\n",
       "      <td>District</td>\n",
       "      <td>2917</td>\n",
       "      <td>1910635</td>\n",
       "    </tr>\n",
       "    <tr>\n",
       "      <th>2</th>\n",
       "      <td>2</td>\n",
       "      <td>Kevin Rodriguez</td>\n",
       "      <td>M</td>\n",
       "      <td>12th</td>\n",
       "      <td>Huang High School</td>\n",
       "      <td>90</td>\n",
       "      <td>60</td>\n",
       "      <td>0</td>\n",
       "      <td>District</td>\n",
       "      <td>2917</td>\n",
       "      <td>1910635</td>\n",
       "    </tr>\n",
       "    <tr>\n",
       "      <th>4</th>\n",
       "      <td>4</td>\n",
       "      <td>Bonnie Ray</td>\n",
       "      <td>F</td>\n",
       "      <td>9th</td>\n",
       "      <td>Huang High School</td>\n",
       "      <td>97</td>\n",
       "      <td>84</td>\n",
       "      <td>0</td>\n",
       "      <td>District</td>\n",
       "      <td>2917</td>\n",
       "      <td>1910635</td>\n",
       "    </tr>\n",
       "    <tr>\n",
       "      <th>5</th>\n",
       "      <td>5</td>\n",
       "      <td>Bryan Miranda</td>\n",
       "      <td>M</td>\n",
       "      <td>9th</td>\n",
       "      <td>Huang High School</td>\n",
       "      <td>94</td>\n",
       "      <td>94</td>\n",
       "      <td>0</td>\n",
       "      <td>District</td>\n",
       "      <td>2917</td>\n",
       "      <td>1910635</td>\n",
       "    </tr>\n",
       "    <tr>\n",
       "      <th>6</th>\n",
       "      <td>6</td>\n",
       "      <td>Sheena Carter</td>\n",
       "      <td>F</td>\n",
       "      <td>11th</td>\n",
       "      <td>Huang High School</td>\n",
       "      <td>82</td>\n",
       "      <td>80</td>\n",
       "      <td>0</td>\n",
       "      <td>District</td>\n",
       "      <td>2917</td>\n",
       "      <td>1910635</td>\n",
       "    </tr>\n",
       "    <tr>\n",
       "      <th>...</th>\n",
       "      <td>...</td>\n",
       "      <td>...</td>\n",
       "      <td>...</td>\n",
       "      <td>...</td>\n",
       "      <td>...</td>\n",
       "      <td>...</td>\n",
       "      <td>...</td>\n",
       "      <td>...</td>\n",
       "      <td>...</td>\n",
       "      <td>...</td>\n",
       "      <td>...</td>\n",
       "    </tr>\n",
       "    <tr>\n",
       "      <th>39165</th>\n",
       "      <td>39165</td>\n",
       "      <td>Donna Howard</td>\n",
       "      <td>F</td>\n",
       "      <td>12th</td>\n",
       "      <td>Thomas High School</td>\n",
       "      <td>99</td>\n",
       "      <td>90</td>\n",
       "      <td>14</td>\n",
       "      <td>Charter</td>\n",
       "      <td>1635</td>\n",
       "      <td>1043130</td>\n",
       "    </tr>\n",
       "    <tr>\n",
       "      <th>39166</th>\n",
       "      <td>39166</td>\n",
       "      <td>Dawn Bell</td>\n",
       "      <td>F</td>\n",
       "      <td>10th</td>\n",
       "      <td>Thomas High School</td>\n",
       "      <td>95</td>\n",
       "      <td>70</td>\n",
       "      <td>14</td>\n",
       "      <td>Charter</td>\n",
       "      <td>1635</td>\n",
       "      <td>1043130</td>\n",
       "    </tr>\n",
       "    <tr>\n",
       "      <th>39167</th>\n",
       "      <td>39167</td>\n",
       "      <td>Rebecca Tanner</td>\n",
       "      <td>F</td>\n",
       "      <td>9th</td>\n",
       "      <td>Thomas High School</td>\n",
       "      <td>73</td>\n",
       "      <td>84</td>\n",
       "      <td>14</td>\n",
       "      <td>Charter</td>\n",
       "      <td>1635</td>\n",
       "      <td>1043130</td>\n",
       "    </tr>\n",
       "    <tr>\n",
       "      <th>39168</th>\n",
       "      <td>39168</td>\n",
       "      <td>Desiree Kidd</td>\n",
       "      <td>F</td>\n",
       "      <td>10th</td>\n",
       "      <td>Thomas High School</td>\n",
       "      <td>99</td>\n",
       "      <td>90</td>\n",
       "      <td>14</td>\n",
       "      <td>Charter</td>\n",
       "      <td>1635</td>\n",
       "      <td>1043130</td>\n",
       "    </tr>\n",
       "    <tr>\n",
       "      <th>39169</th>\n",
       "      <td>39169</td>\n",
       "      <td>Carolyn Jackson</td>\n",
       "      <td>F</td>\n",
       "      <td>11th</td>\n",
       "      <td>Thomas High School</td>\n",
       "      <td>95</td>\n",
       "      <td>75</td>\n",
       "      <td>14</td>\n",
       "      <td>Charter</td>\n",
       "      <td>1635</td>\n",
       "      <td>1043130</td>\n",
       "    </tr>\n",
       "  </tbody>\n",
       "</table>\n",
       "<p>33610 rows × 11 columns</p>\n",
       "</div>"
      ],
      "text/plain": [
       "       Student ID     student_name gender grade         school_name  \\\n",
       "1               1     Victor Smith      M  12th   Huang High School   \n",
       "2               2  Kevin Rodriguez      M  12th   Huang High School   \n",
       "4               4       Bonnie Ray      F   9th   Huang High School   \n",
       "5               5    Bryan Miranda      M   9th   Huang High School   \n",
       "6               6    Sheena Carter      F  11th   Huang High School   \n",
       "...           ...              ...    ...   ...                 ...   \n",
       "39165       39165     Donna Howard      F  12th  Thomas High School   \n",
       "39166       39166        Dawn Bell      F  10th  Thomas High School   \n",
       "39167       39167   Rebecca Tanner      F   9th  Thomas High School   \n",
       "39168       39168     Desiree Kidd      F  10th  Thomas High School   \n",
       "39169       39169  Carolyn Jackson      F  11th  Thomas High School   \n",
       "\n",
       "       reading_score  math_score  School ID      type  size   budget  \n",
       "1                 94          61          0  District  2917  1910635  \n",
       "2                 90          60          0  District  2917  1910635  \n",
       "4                 97          84          0  District  2917  1910635  \n",
       "5                 94          94          0  District  2917  1910635  \n",
       "6                 82          80          0  District  2917  1910635  \n",
       "...              ...         ...        ...       ...   ...      ...  \n",
       "39165             99          90         14   Charter  1635  1043130  \n",
       "39166             95          70         14   Charter  1635  1043130  \n",
       "39167             73          84         14   Charter  1635  1043130  \n",
       "39168             99          90         14   Charter  1635  1043130  \n",
       "39169             95          75         14   Charter  1635  1043130  \n",
       "\n",
       "[33610 rows x 11 columns]"
      ]
     },
     "execution_count": 354,
     "metadata": {},
     "output_type": "execute_result"
    }
   ],
   "source": [
    "## Per school average passing reading\n",
    "\n",
    "per_school_pass_reading = school_data_complete.loc[school_data_complete[\"reading_score\"] >= 70]\n",
    "per_school_pass_reading"
   ]
  },
  {
   "cell_type": "code",
   "execution_count": 450,
   "id": "a88b615b-37ef-41b2-8f2e-c5fc84de0b64",
   "metadata": {},
   "outputs": [
    {
     "ename": "KeyError",
     "evalue": "''",
     "output_type": "error",
     "traceback": [
      "\u001b[1;31m---------------------------------------------------------------------------\u001b[0m",
      "\u001b[1;31mKeyError\u001b[0m                                  Traceback (most recent call last)",
      "File \u001b[1;32m~\\anaconda3\\Lib\\site-packages\\pandas\\core\\indexes\\base.py:3791\u001b[0m, in \u001b[0;36mIndex.get_loc\u001b[1;34m(self, key)\u001b[0m\n\u001b[0;32m   3790\u001b[0m \u001b[38;5;28;01mtry\u001b[39;00m:\n\u001b[1;32m-> 3791\u001b[0m     \u001b[38;5;28;01mreturn\u001b[39;00m \u001b[38;5;28mself\u001b[39m\u001b[38;5;241m.\u001b[39m_engine\u001b[38;5;241m.\u001b[39mget_loc(casted_key)\n\u001b[0;32m   3792\u001b[0m \u001b[38;5;28;01mexcept\u001b[39;00m \u001b[38;5;167;01mKeyError\u001b[39;00m \u001b[38;5;28;01mas\u001b[39;00m err:\n",
      "File \u001b[1;32mindex.pyx:152\u001b[0m, in \u001b[0;36mpandas._libs.index.IndexEngine.get_loc\u001b[1;34m()\u001b[0m\n",
      "File \u001b[1;32mindex.pyx:181\u001b[0m, in \u001b[0;36mpandas._libs.index.IndexEngine.get_loc\u001b[1;34m()\u001b[0m\n",
      "File \u001b[1;32mpandas\\_libs\\hashtable_class_helper.pxi:7080\u001b[0m, in \u001b[0;36mpandas._libs.hashtable.PyObjectHashTable.get_item\u001b[1;34m()\u001b[0m\n",
      "File \u001b[1;32mpandas\\_libs\\hashtable_class_helper.pxi:7088\u001b[0m, in \u001b[0;36mpandas._libs.hashtable.PyObjectHashTable.get_item\u001b[1;34m()\u001b[0m\n",
      "\u001b[1;31mKeyError\u001b[0m: ''",
      "\nThe above exception was the direct cause of the following exception:\n",
      "\u001b[1;31mKeyError\u001b[0m                                  Traceback (most recent call last)",
      "Cell \u001b[1;32mIn[450], line 4\u001b[0m\n\u001b[0;32m      1\u001b[0m \u001b[38;5;66;03m## Per school average passing both subjects\u001b[39;00m\n\u001b[0;32m      3\u001b[0m passing_math_and_reading \u001b[38;5;241m=\u001b[39m school_data_complete[(school_data_complete[\u001b[38;5;124m\"\u001b[39m\u001b[38;5;124mreading_score\u001b[39m\u001b[38;5;124m\"\u001b[39m] \u001b[38;5;241m>\u001b[39m\u001b[38;5;241m=\u001b[39m \u001b[38;5;241m70\u001b[39m) \u001b[38;5;241m&\u001b[39m (school_data_complete[\u001b[38;5;124m\"\u001b[39m\u001b[38;5;124mmath_score\u001b[39m\u001b[38;5;124m\"\u001b[39m] \u001b[38;5;241m>\u001b[39m\u001b[38;5;241m=\u001b[39m \u001b[38;5;241m70\u001b[39m)]\n\u001b[1;32m----> 4\u001b[0m passing_math_and_reading \u001b[38;5;241m=\u001b[39m school_data_complete[\u001b[38;5;124m'\u001b[39m\u001b[38;5;124m'\u001b[39m]\u001b[38;5;241m.\u001b[39mvalue_counts()\n\u001b[0;32m      5\u001b[0m passing_math_and_reading\n",
      "File \u001b[1;32m~\\anaconda3\\Lib\\site-packages\\pandas\\core\\frame.py:3893\u001b[0m, in \u001b[0;36mDataFrame.__getitem__\u001b[1;34m(self, key)\u001b[0m\n\u001b[0;32m   3891\u001b[0m \u001b[38;5;28;01mif\u001b[39;00m \u001b[38;5;28mself\u001b[39m\u001b[38;5;241m.\u001b[39mcolumns\u001b[38;5;241m.\u001b[39mnlevels \u001b[38;5;241m>\u001b[39m \u001b[38;5;241m1\u001b[39m:\n\u001b[0;32m   3892\u001b[0m     \u001b[38;5;28;01mreturn\u001b[39;00m \u001b[38;5;28mself\u001b[39m\u001b[38;5;241m.\u001b[39m_getitem_multilevel(key)\n\u001b[1;32m-> 3893\u001b[0m indexer \u001b[38;5;241m=\u001b[39m \u001b[38;5;28mself\u001b[39m\u001b[38;5;241m.\u001b[39mcolumns\u001b[38;5;241m.\u001b[39mget_loc(key)\n\u001b[0;32m   3894\u001b[0m \u001b[38;5;28;01mif\u001b[39;00m is_integer(indexer):\n\u001b[0;32m   3895\u001b[0m     indexer \u001b[38;5;241m=\u001b[39m [indexer]\n",
      "File \u001b[1;32m~\\anaconda3\\Lib\\site-packages\\pandas\\core\\indexes\\base.py:3798\u001b[0m, in \u001b[0;36mIndex.get_loc\u001b[1;34m(self, key)\u001b[0m\n\u001b[0;32m   3793\u001b[0m     \u001b[38;5;28;01mif\u001b[39;00m \u001b[38;5;28misinstance\u001b[39m(casted_key, \u001b[38;5;28mslice\u001b[39m) \u001b[38;5;129;01mor\u001b[39;00m (\n\u001b[0;32m   3794\u001b[0m         \u001b[38;5;28misinstance\u001b[39m(casted_key, abc\u001b[38;5;241m.\u001b[39mIterable)\n\u001b[0;32m   3795\u001b[0m         \u001b[38;5;129;01mand\u001b[39;00m \u001b[38;5;28many\u001b[39m(\u001b[38;5;28misinstance\u001b[39m(x, \u001b[38;5;28mslice\u001b[39m) \u001b[38;5;28;01mfor\u001b[39;00m x \u001b[38;5;129;01min\u001b[39;00m casted_key)\n\u001b[0;32m   3796\u001b[0m     ):\n\u001b[0;32m   3797\u001b[0m         \u001b[38;5;28;01mraise\u001b[39;00m InvalidIndexError(key)\n\u001b[1;32m-> 3798\u001b[0m     \u001b[38;5;28;01mraise\u001b[39;00m \u001b[38;5;167;01mKeyError\u001b[39;00m(key) \u001b[38;5;28;01mfrom\u001b[39;00m \u001b[38;5;21;01merr\u001b[39;00m\n\u001b[0;32m   3799\u001b[0m \u001b[38;5;28;01mexcept\u001b[39;00m \u001b[38;5;167;01mTypeError\u001b[39;00m:\n\u001b[0;32m   3800\u001b[0m     \u001b[38;5;66;03m# If we have a listlike key, _check_indexing_error will raise\u001b[39;00m\n\u001b[0;32m   3801\u001b[0m     \u001b[38;5;66;03m#  InvalidIndexError. Otherwise we fall through and re-raise\u001b[39;00m\n\u001b[0;32m   3802\u001b[0m     \u001b[38;5;66;03m#  the TypeError.\u001b[39;00m\n\u001b[0;32m   3803\u001b[0m     \u001b[38;5;28mself\u001b[39m\u001b[38;5;241m.\u001b[39m_check_indexing_error(key)\n",
      "\u001b[1;31mKeyError\u001b[0m: ''"
     ]
    }
   ],
   "source": [
    "## Per school average passing both subjects\n",
    "\n",
    "passing_math_and_reading = school_data_complete[(school_data_complete[\"reading_score\"] >= 70) & (school_data_complete[\"math_score\"] >= 70)]\n",
    "passing_math_and_reading = school_data_complete[''].value_counts()\n",
    "passing_math_and_reading"
   ]
  },
  {
   "cell_type": "code",
   "execution_count": 452,
   "id": "10246b78-eb53-4612-b077-8e569a200c2a",
   "metadata": {},
   "outputs": [
    {
     "ename": "KeyError",
     "evalue": "'student_name'",
     "output_type": "error",
     "traceback": [
      "\u001b[1;31m---------------------------------------------------------------------------\u001b[0m",
      "\u001b[1;31mKeyError\u001b[0m                                  Traceback (most recent call last)",
      "File \u001b[1;32m~\\anaconda3\\Lib\\site-packages\\pandas\\core\\indexes\\base.py:3791\u001b[0m, in \u001b[0;36mIndex.get_loc\u001b[1;34m(self, key)\u001b[0m\n\u001b[0;32m   3790\u001b[0m \u001b[38;5;28;01mtry\u001b[39;00m:\n\u001b[1;32m-> 3791\u001b[0m     \u001b[38;5;28;01mreturn\u001b[39;00m \u001b[38;5;28mself\u001b[39m\u001b[38;5;241m.\u001b[39m_engine\u001b[38;5;241m.\u001b[39mget_loc(casted_key)\n\u001b[0;32m   3792\u001b[0m \u001b[38;5;28;01mexcept\u001b[39;00m \u001b[38;5;167;01mKeyError\u001b[39;00m \u001b[38;5;28;01mas\u001b[39;00m err:\n",
      "File \u001b[1;32mindex.pyx:152\u001b[0m, in \u001b[0;36mpandas._libs.index.IndexEngine.get_loc\u001b[1;34m()\u001b[0m\n",
      "File \u001b[1;32mindex.pyx:181\u001b[0m, in \u001b[0;36mpandas._libs.index.IndexEngine.get_loc\u001b[1;34m()\u001b[0m\n",
      "File \u001b[1;32mpandas\\_libs\\hashtable_class_helper.pxi:7080\u001b[0m, in \u001b[0;36mpandas._libs.hashtable.PyObjectHashTable.get_item\u001b[1;34m()\u001b[0m\n",
      "File \u001b[1;32mpandas\\_libs\\hashtable_class_helper.pxi:7088\u001b[0m, in \u001b[0;36mpandas._libs.hashtable.PyObjectHashTable.get_item\u001b[1;34m()\u001b[0m\n",
      "\u001b[1;31mKeyError\u001b[0m: 'student_name'",
      "\nThe above exception was the direct cause of the following exception:\n",
      "\u001b[1;31mKeyError\u001b[0m                                  Traceback (most recent call last)",
      "Cell \u001b[1;32mIn[452], line 1\u001b[0m\n\u001b[1;32m----> 1\u001b[0m per_school_passing_math \u001b[38;5;241m=\u001b[39m per_school_math\u001b[38;5;241m.\u001b[39mgroupby([\u001b[38;5;124m\"\u001b[39m\u001b[38;5;124mschool_name\u001b[39m\u001b[38;5;124m\"\u001b[39m])\u001b[38;5;241m.\u001b[39mcount()[\u001b[38;5;124m\"\u001b[39m\u001b[38;5;124mstudent_name\u001b[39m\u001b[38;5;124m\"\u001b[39m] \u001b[38;5;241m/\u001b[39m per_school_counts \u001b[38;5;241m*\u001b[39m \u001b[38;5;241m100\u001b[39m\n",
      "File \u001b[1;32m~\\anaconda3\\Lib\\site-packages\\pandas\\core\\series.py:1040\u001b[0m, in \u001b[0;36mSeries.__getitem__\u001b[1;34m(self, key)\u001b[0m\n\u001b[0;32m   1037\u001b[0m     \u001b[38;5;28;01mreturn\u001b[39;00m \u001b[38;5;28mself\u001b[39m\u001b[38;5;241m.\u001b[39m_values[key]\n\u001b[0;32m   1039\u001b[0m \u001b[38;5;28;01melif\u001b[39;00m key_is_scalar:\n\u001b[1;32m-> 1040\u001b[0m     \u001b[38;5;28;01mreturn\u001b[39;00m \u001b[38;5;28mself\u001b[39m\u001b[38;5;241m.\u001b[39m_get_value(key)\n\u001b[0;32m   1042\u001b[0m \u001b[38;5;66;03m# Convert generator to list before going through hashable part\u001b[39;00m\n\u001b[0;32m   1043\u001b[0m \u001b[38;5;66;03m# (We will iterate through the generator there to check for slices)\u001b[39;00m\n\u001b[0;32m   1044\u001b[0m \u001b[38;5;28;01mif\u001b[39;00m is_iterator(key):\n",
      "File \u001b[1;32m~\\anaconda3\\Lib\\site-packages\\pandas\\core\\series.py:1156\u001b[0m, in \u001b[0;36mSeries._get_value\u001b[1;34m(self, label, takeable)\u001b[0m\n\u001b[0;32m   1153\u001b[0m     \u001b[38;5;28;01mreturn\u001b[39;00m \u001b[38;5;28mself\u001b[39m\u001b[38;5;241m.\u001b[39m_values[label]\n\u001b[0;32m   1155\u001b[0m \u001b[38;5;66;03m# Similar to Index.get_value, but we do not fall back to positional\u001b[39;00m\n\u001b[1;32m-> 1156\u001b[0m loc \u001b[38;5;241m=\u001b[39m \u001b[38;5;28mself\u001b[39m\u001b[38;5;241m.\u001b[39mindex\u001b[38;5;241m.\u001b[39mget_loc(label)\n\u001b[0;32m   1158\u001b[0m \u001b[38;5;28;01mif\u001b[39;00m is_integer(loc):\n\u001b[0;32m   1159\u001b[0m     \u001b[38;5;28;01mreturn\u001b[39;00m \u001b[38;5;28mself\u001b[39m\u001b[38;5;241m.\u001b[39m_values[loc]\n",
      "File \u001b[1;32m~\\anaconda3\\Lib\\site-packages\\pandas\\core\\indexes\\base.py:3798\u001b[0m, in \u001b[0;36mIndex.get_loc\u001b[1;34m(self, key)\u001b[0m\n\u001b[0;32m   3793\u001b[0m     \u001b[38;5;28;01mif\u001b[39;00m \u001b[38;5;28misinstance\u001b[39m(casted_key, \u001b[38;5;28mslice\u001b[39m) \u001b[38;5;129;01mor\u001b[39;00m (\n\u001b[0;32m   3794\u001b[0m         \u001b[38;5;28misinstance\u001b[39m(casted_key, abc\u001b[38;5;241m.\u001b[39mIterable)\n\u001b[0;32m   3795\u001b[0m         \u001b[38;5;129;01mand\u001b[39;00m \u001b[38;5;28many\u001b[39m(\u001b[38;5;28misinstance\u001b[39m(x, \u001b[38;5;28mslice\u001b[39m) \u001b[38;5;28;01mfor\u001b[39;00m x \u001b[38;5;129;01min\u001b[39;00m casted_key)\n\u001b[0;32m   3796\u001b[0m     ):\n\u001b[0;32m   3797\u001b[0m         \u001b[38;5;28;01mraise\u001b[39;00m InvalidIndexError(key)\n\u001b[1;32m-> 3798\u001b[0m     \u001b[38;5;28;01mraise\u001b[39;00m \u001b[38;5;167;01mKeyError\u001b[39;00m(key) \u001b[38;5;28;01mfrom\u001b[39;00m \u001b[38;5;21;01merr\u001b[39;00m\n\u001b[0;32m   3799\u001b[0m \u001b[38;5;28;01mexcept\u001b[39;00m \u001b[38;5;167;01mTypeError\u001b[39;00m:\n\u001b[0;32m   3800\u001b[0m     \u001b[38;5;66;03m# If we have a listlike key, _check_indexing_error will raise\u001b[39;00m\n\u001b[0;32m   3801\u001b[0m     \u001b[38;5;66;03m#  InvalidIndexError. Otherwise we fall through and re-raise\u001b[39;00m\n\u001b[0;32m   3802\u001b[0m     \u001b[38;5;66;03m#  the TypeError.\u001b[39;00m\n\u001b[0;32m   3803\u001b[0m     \u001b[38;5;28mself\u001b[39m\u001b[38;5;241m.\u001b[39m_check_indexing_error(key)\n",
      "\u001b[1;31mKeyError\u001b[0m: 'student_name'"
     ]
    }
   ],
   "source": [
    "per_school_passing_math = per_school_math.groupby([\"school_name\"]).count()[\"student_name\"] / per_school_counts * 100"
   ]
  },
  {
   "cell_type": "code",
   "execution_count": null,
   "id": "2a683585-b80d-45b6-840e-d4c06cb19c47",
   "metadata": {},
   "outputs": [],
   "source": []
  },
  {
   "cell_type": "code",
   "execution_count": null,
   "id": "6158f14a-feba-485a-a7b8-ee20ea92fe30",
   "metadata": {},
   "outputs": [],
   "source": []
  }
 ],
 "metadata": {
  "kernelspec": {
   "display_name": "Python 3 (ipykernel)",
   "language": "python",
   "name": "python3"
  },
  "language_info": {
   "codemirror_mode": {
    "name": "ipython",
    "version": 3
   },
   "file_extension": ".py",
   "mimetype": "text/x-python",
   "name": "python",
   "nbconvert_exporter": "python",
   "pygments_lexer": "ipython3",
   "version": "3.11.7"
  }
 },
 "nbformat": 4,
 "nbformat_minor": 5
}
