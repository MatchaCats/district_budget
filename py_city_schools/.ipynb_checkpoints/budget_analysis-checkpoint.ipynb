{
 "cells": [
  {
   "cell_type": "code",
   "execution_count": 3,
   "id": "51a0e60e-7316-4e33-8e20-b7057a579689",
   "metadata": {},
   "outputs": [],
   "source": [
    "## Importing dependencies \n",
    "import pandas as pd\n",
    "import os"
   ]
  },
  {
   "cell_type": "code",
   "execution_count": 5,
   "id": "00f718ea-f77d-4f03-8bda-795d697f4602",
   "metadata": {},
   "outputs": [
    {
     "data": {
      "text/html": [
       "<div>\n",
       "<style scoped>\n",
       "    .dataframe tbody tr th:only-of-type {\n",
       "        vertical-align: middle;\n",
       "    }\n",
       "\n",
       "    .dataframe tbody tr th {\n",
       "        vertical-align: top;\n",
       "    }\n",
       "\n",
       "    .dataframe thead th {\n",
       "        text-align: right;\n",
       "    }\n",
       "</style>\n",
       "<table border=\"1\" class=\"dataframe\">\n",
       "  <thead>\n",
       "    <tr style=\"text-align: right;\">\n",
       "      <th></th>\n",
       "      <th>Student ID</th>\n",
       "      <th>student_name</th>\n",
       "      <th>gender</th>\n",
       "      <th>grade</th>\n",
       "      <th>school_name</th>\n",
       "      <th>reading_score</th>\n",
       "      <th>math_score</th>\n",
       "      <th>School ID</th>\n",
       "      <th>type</th>\n",
       "      <th>size</th>\n",
       "      <th>budget</th>\n",
       "    </tr>\n",
       "  </thead>\n",
       "  <tbody>\n",
       "    <tr>\n",
       "      <th>0</th>\n",
       "      <td>0</td>\n",
       "      <td>Paul Bradley</td>\n",
       "      <td>M</td>\n",
       "      <td>9th</td>\n",
       "      <td>Huang High School</td>\n",
       "      <td>66</td>\n",
       "      <td>79</td>\n",
       "      <td>0</td>\n",
       "      <td>District</td>\n",
       "      <td>2917</td>\n",
       "      <td>1910635</td>\n",
       "    </tr>\n",
       "    <tr>\n",
       "      <th>1</th>\n",
       "      <td>1</td>\n",
       "      <td>Victor Smith</td>\n",
       "      <td>M</td>\n",
       "      <td>12th</td>\n",
       "      <td>Huang High School</td>\n",
       "      <td>94</td>\n",
       "      <td>61</td>\n",
       "      <td>0</td>\n",
       "      <td>District</td>\n",
       "      <td>2917</td>\n",
       "      <td>1910635</td>\n",
       "    </tr>\n",
       "    <tr>\n",
       "      <th>2</th>\n",
       "      <td>2</td>\n",
       "      <td>Kevin Rodriguez</td>\n",
       "      <td>M</td>\n",
       "      <td>12th</td>\n",
       "      <td>Huang High School</td>\n",
       "      <td>90</td>\n",
       "      <td>60</td>\n",
       "      <td>0</td>\n",
       "      <td>District</td>\n",
       "      <td>2917</td>\n",
       "      <td>1910635</td>\n",
       "    </tr>\n",
       "    <tr>\n",
       "      <th>3</th>\n",
       "      <td>3</td>\n",
       "      <td>Dr. Richard Scott</td>\n",
       "      <td>M</td>\n",
       "      <td>12th</td>\n",
       "      <td>Huang High School</td>\n",
       "      <td>67</td>\n",
       "      <td>58</td>\n",
       "      <td>0</td>\n",
       "      <td>District</td>\n",
       "      <td>2917</td>\n",
       "      <td>1910635</td>\n",
       "    </tr>\n",
       "    <tr>\n",
       "      <th>4</th>\n",
       "      <td>4</td>\n",
       "      <td>Bonnie Ray</td>\n",
       "      <td>F</td>\n",
       "      <td>9th</td>\n",
       "      <td>Huang High School</td>\n",
       "      <td>97</td>\n",
       "      <td>84</td>\n",
       "      <td>0</td>\n",
       "      <td>District</td>\n",
       "      <td>2917</td>\n",
       "      <td>1910635</td>\n",
       "    </tr>\n",
       "  </tbody>\n",
       "</table>\n",
       "</div>"
      ],
      "text/plain": [
       "   Student ID       student_name gender grade        school_name  \\\n",
       "0           0       Paul Bradley      M   9th  Huang High School   \n",
       "1           1       Victor Smith      M  12th  Huang High School   \n",
       "2           2    Kevin Rodriguez      M  12th  Huang High School   \n",
       "3           3  Dr. Richard Scott      M  12th  Huang High School   \n",
       "4           4         Bonnie Ray      F   9th  Huang High School   \n",
       "\n",
       "   reading_score  math_score  School ID      type  size   budget  \n",
       "0             66          79          0  District  2917  1910635  \n",
       "1             94          61          0  District  2917  1910635  \n",
       "2             90          60          0  District  2917  1910635  \n",
       "3             67          58          0  District  2917  1910635  \n",
       "4             97          84          0  District  2917  1910635  "
      ]
     },
     "execution_count": 5,
     "metadata": {},
     "output_type": "execute_result"
    }
   ],
   "source": [
    "## Importing in CSV files\n",
    "school_data_csv = \"Resources/schools_complete.csv\"\n",
    "student_data_csv =  \"Resources/students_complete.csv\"\n",
    "\n",
    "## Reading in CSV files and convert into Pandas dataframes\n",
    "school_data_df = pd.read_csv(school_data_csv)\n",
    "student_data_df = pd.read_csv(student_data_csv)\n",
    "\n",
    "## Merging the dataframes\n",
    "school_data_complete = pd.merge(student_data_df, school_data_df, how=\"left\", on=[\"school_name\", \"school_name\"])\n",
    "school_data_complete.head()\n"
   ]
  },
  {
   "cell_type": "code",
   "execution_count": 7,
   "id": "da82bad3-e66f-4ad0-ad8d-2c37c5d7a8b9",
   "metadata": {},
   "outputs": [
    {
     "data": {
      "text/plain": [
       "Student ID       39170\n",
       "student_name     39170\n",
       "gender           39170\n",
       "grade            39170\n",
       "school_name      39170\n",
       "reading_score    39170\n",
       "math_score       39170\n",
       "School ID        39170\n",
       "type             39170\n",
       "size             39170\n",
       "budget           39170\n",
       "dtype: int64"
      ]
     },
     "execution_count": 7,
     "metadata": {},
     "output_type": "execute_result"
    }
   ],
   "source": [
    "## Verifying data is clean\n",
    "school_data_complete.count()"
   ]
  },
  {
   "cell_type": "code",
   "execution_count": 9,
   "id": "2ef0414e-e138-4a15-aa8c-00c9fdf5ba2a",
   "metadata": {},
   "outputs": [
    {
     "name": "stdout",
     "output_type": "stream",
     "text": [
      "    School ID            school_name      type  size   budget\n",
      "0           0      Huang High School  District  2917  1910635\n",
      "1           1   Figueroa High School  District  2949  1884411\n",
      "2           2    Shelton High School   Charter  1761  1056600\n",
      "3           3  Hernandez High School  District  4635  3022020\n",
      "4           4    Griffin High School   Charter  1468   917500\n",
      "5           5     Wilson High School   Charter  2283  1319574\n",
      "6           6    Cabrera High School   Charter  1858  1081356\n",
      "7           7     Bailey High School  District  4976  3124928\n",
      "8           8     Holden High School   Charter   427   248087\n",
      "9           9       Pena High School   Charter   962   585858\n",
      "10         10     Wright High School   Charter  1800  1049400\n",
      "11         11  Rodriguez High School  District  3999  2547363\n",
      "12         12    Johnson High School  District  4761  3094650\n",
      "13         13       Ford High School  District  2739  1763916\n",
      "14         14     Thomas High School   Charter  1635  1043130\n",
      "Total number of unique schools: 15\n"
     ]
    }
   ],
   "source": [
    "## Total number of unique schools\n",
    "\n",
    "## Printing out school dataframe to view all the school names\n",
    "print(school_data_df)\n",
    "## Counting the rows so row 0 is also included in the total\n",
    "#school_data_df.count()\n",
    "\n",
    "print(\"Total number of unique schools: 15\")"
   ]
  },
  {
   "cell_type": "code",
   "execution_count": 23,
   "id": "3ac78302-8b03-435e-9d94-0ed384bd4a8f",
   "metadata": {},
   "outputs": [
    {
     "name": "stdout",
     "output_type": "stream",
     "text": [
      "Total number of students: 39170\n"
     ]
    }
   ],
   "source": [
    "## Total students\n",
    "\n",
    "## Counting each student ID\n",
    "student_data_df.count()\n",
    "\n",
    "total_students = 39170\n",
    "print(f\"Total number of students: {39170}\")"
   ]
  },
  {
   "cell_type": "code",
   "execution_count": 13,
   "id": "b0b4f14c-e398-49bb-826c-2d9b64197a91",
   "metadata": {},
   "outputs": [
    {
     "name": "stdout",
     "output_type": "stream",
     "text": [
      "Total budget: $24649428\n"
     ]
    }
   ],
   "source": [
    "## Total budget\n",
    "\n",
    "## Adding the budget for each school together\n",
    "total_budget = school_data_df['budget'].sum()\n",
    "#print(total_budget)\n",
    "\n",
    "print(f\"Total budget: ${total_budget}\")"
   ]
  },
  {
   "cell_type": "code",
   "execution_count": 15,
   "id": "4112832a-bbd9-4f26-8f50-ec649f74d04e",
   "metadata": {},
   "outputs": [
    {
     "name": "stdout",
     "output_type": "stream",
     "text": [
      "Average math score: 79.0\n"
     ]
    }
   ],
   "source": [
    "## Average math score\n",
    "\n",
    "## Finding the average math score, then rounding to the nearest whole #\n",
    "average_math = (school_data_complete['math_score'].mean()).round()\n",
    "#print(average_math)\n",
    "\n",
    "print(f\"Average math score: {average_math}\")"
   ]
  },
  {
   "cell_type": "code",
   "execution_count": 17,
   "id": "2a83c13b-a6c4-4c4b-a16b-5b176fae2487",
   "metadata": {},
   "outputs": [
    {
     "name": "stdout",
     "output_type": "stream",
     "text": [
      "Average reading score: 82.0\n"
     ]
    }
   ],
   "source": [
    "## Average reading score\n",
    "\n",
    "## Finding the average reading score, then rounding to the nearest whole #\n",
    "average_reading = (school_data_complete['reading_score'].mean()).round()\n",
    "#print(average_reading)\n",
    "\n",
    "print(f\"Average reading score: {average_reading}\")"
   ]
  },
  {
   "cell_type": "code",
   "execution_count": 69,
   "id": "73edfa69-abc7-4b7e-bfe4-5b4f05b9afb6",
   "metadata": {},
   "outputs": [
    {
     "name": "stdout",
     "output_type": "stream",
     "text": [
      "Average passing math: 75%\n"
     ]
    }
   ],
   "source": [
    "## % passing math (the percentage of students who passed math)\n",
    "\n",
    "## Sorting to find students that passed math\n",
    "math_pass = school_data_complete.loc[school_data_complete['math_score'] >= 70]\n",
    "#print(math_pass)\n",
    "#percent_pass_math = math_pass.mean()\n",
    "## Counts how many students are in the new variable\n",
    "math_pass.count()\n",
    "## Setting a variable to hold the # of passing students for math\n",
    "student_math_pass = 29370\n",
    "\n",
    "## Finding the average\n",
    "average_math_pass = ((student_math_pass/total_students)*100)\n",
    "r_average_math_pass = round(average_math_pass)\n",
    "#print(r_average_math_pass)\n",
    "\n",
    "print(f\"Average passing math: {r_average_math_pass}%\")"
   ]
  },
  {
   "cell_type": "code",
   "execution_count": 73,
   "id": "773687f6-7d6a-43b3-9ccf-a9427e7191d3",
   "metadata": {},
   "outputs": [
    {
     "name": "stdout",
     "output_type": "stream",
     "text": [
      "Average passing reading: 86%\n"
     ]
    }
   ],
   "source": [
    "## % passing reading (the percentage of students who passed reading)\n",
    "\n",
    "## Sorting to find students that passed reading\n",
    "reading_pass = school_data_complete.loc[school_data_complete['reading_score'] >= 70]\n",
    "#print(reading_pass)\n",
    "#percent_pass_reading = reading_pass.mean()\n",
    "## Counts how many students are in the new variable\n",
    "reading_pass.count()\n",
    "## Setting a variable to hold the # of passing students for reeading\n",
    "student_reading_pass = 33610\n",
    "\n",
    "## Finding the average\n",
    "average_reading_pass = ((student_reading_pass/total_students)*100)\n",
    "r_average_reading_pass = round(average_reading_pass)\n",
    "#print(r_average_reading_pass)\n",
    "\n",
    "print(f\"Average passing reading: {r_average_reading_pass}%\")"
   ]
  },
  {
   "cell_type": "code",
   "execution_count": null,
   "id": "f1a4635f-4781-46f5-902a-ac0b1855fd5d",
   "metadata": {},
   "outputs": [],
   "source": [
    "## % overall passing (the percentage of students who passed math AND reading)\n",
    "\n"
   ]
  },
  {
   "cell_type": "code",
   "execution_count": null,
   "id": "ab54357d-b493-429c-948e-3fe8612d122e",
   "metadata": {},
   "outputs": [],
   "source": []
  },
  {
   "cell_type": "code",
   "execution_count": null,
   "id": "2a683585-b80d-45b6-840e-d4c06cb19c47",
   "metadata": {},
   "outputs": [],
   "source": []
  },
  {
   "cell_type": "code",
   "execution_count": null,
   "id": "6158f14a-feba-485a-a7b8-ee20ea92fe30",
   "metadata": {},
   "outputs": [],
   "source": []
  }
 ],
 "metadata": {
  "kernelspec": {
   "display_name": "Python 3 (ipykernel)",
   "language": "python",
   "name": "python3"
  },
  "language_info": {
   "codemirror_mode": {
    "name": "ipython",
    "version": 3
   },
   "file_extension": ".py",
   "mimetype": "text/x-python",
   "name": "python",
   "nbconvert_exporter": "python",
   "pygments_lexer": "ipython3",
   "version": "3.11.7"
  }
 },
 "nbformat": 4,
 "nbformat_minor": 5
}
