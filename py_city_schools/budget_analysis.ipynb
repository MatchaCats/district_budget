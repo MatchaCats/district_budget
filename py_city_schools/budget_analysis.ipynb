{
 "cells": [
  {
   "cell_type": "code",
   "execution_count": null,
   "id": "cbd0548b-f537-492c-9120-5d80dea7b27f",
   "metadata": {},
   "outputs": [],
   "source": [
    "PyCity Schools Analysis\n",
    "\n",
    "# 1. Overall school size played a rather large factor. As the bottom 3 schools in terms of population,\n",
    "# averaged out to about $1,967,232. While the 3 largest schools averaged about $1,617,215. Smaller schools seemed\n",
    "# to have larger budgets on average.\n",
    "\n",
    "# 2. There was a three-way tie for highest average math score for both reading and math. Cabrera High School, \n",
    "# Pena High School, and Thomas High School. All of which scored 84% in both Math and Reading.\n",
    "\n",
    "# 3. The smallest school overall was spending nearly 16 times more per capita ($2442.92), than the largest school ($383.97)."
   ]
  },
  {
   "cell_type": "code",
   "execution_count": null,
   "id": "a4007715-7114-46b7-afbc-5b349a2790f4",
   "metadata": {},
   "outputs": [],
   "source": []
  },
  {
   "cell_type": "code",
   "execution_count": 488,
   "id": "51a0e60e-7316-4e33-8e20-b7057a579689",
   "metadata": {},
   "outputs": [],
   "source": [
    "## Importing dependencies \n",
    "import pandas as pd\n",
    "import os"
   ]
  },
  {
   "cell_type": "code",
   "execution_count": 490,
   "id": "00f718ea-f77d-4f03-8bda-795d697f4602",
   "metadata": {},
   "outputs": [
    {
     "data": {
      "text/html": [
       "<div>\n",
       "<style scoped>\n",
       "    .dataframe tbody tr th:only-of-type {\n",
       "        vertical-align: middle;\n",
       "    }\n",
       "\n",
       "    .dataframe tbody tr th {\n",
       "        vertical-align: top;\n",
       "    }\n",
       "\n",
       "    .dataframe thead th {\n",
       "        text-align: right;\n",
       "    }\n",
       "</style>\n",
       "<table border=\"1\" class=\"dataframe\">\n",
       "  <thead>\n",
       "    <tr style=\"text-align: right;\">\n",
       "      <th></th>\n",
       "      <th>Student ID</th>\n",
       "      <th>student_name</th>\n",
       "      <th>gender</th>\n",
       "      <th>grade</th>\n",
       "      <th>school_name</th>\n",
       "      <th>reading_score</th>\n",
       "      <th>math_score</th>\n",
       "      <th>School ID</th>\n",
       "      <th>type</th>\n",
       "      <th>size</th>\n",
       "      <th>budget</th>\n",
       "    </tr>\n",
       "  </thead>\n",
       "  <tbody>\n",
       "    <tr>\n",
       "      <th>0</th>\n",
       "      <td>0</td>\n",
       "      <td>Paul Bradley</td>\n",
       "      <td>M</td>\n",
       "      <td>9th</td>\n",
       "      <td>Huang High School</td>\n",
       "      <td>66</td>\n",
       "      <td>79</td>\n",
       "      <td>0</td>\n",
       "      <td>District</td>\n",
       "      <td>2917</td>\n",
       "      <td>1910635</td>\n",
       "    </tr>\n",
       "    <tr>\n",
       "      <th>1</th>\n",
       "      <td>1</td>\n",
       "      <td>Victor Smith</td>\n",
       "      <td>M</td>\n",
       "      <td>12th</td>\n",
       "      <td>Huang High School</td>\n",
       "      <td>94</td>\n",
       "      <td>61</td>\n",
       "      <td>0</td>\n",
       "      <td>District</td>\n",
       "      <td>2917</td>\n",
       "      <td>1910635</td>\n",
       "    </tr>\n",
       "    <tr>\n",
       "      <th>2</th>\n",
       "      <td>2</td>\n",
       "      <td>Kevin Rodriguez</td>\n",
       "      <td>M</td>\n",
       "      <td>12th</td>\n",
       "      <td>Huang High School</td>\n",
       "      <td>90</td>\n",
       "      <td>60</td>\n",
       "      <td>0</td>\n",
       "      <td>District</td>\n",
       "      <td>2917</td>\n",
       "      <td>1910635</td>\n",
       "    </tr>\n",
       "    <tr>\n",
       "      <th>3</th>\n",
       "      <td>3</td>\n",
       "      <td>Dr. Richard Scott</td>\n",
       "      <td>M</td>\n",
       "      <td>12th</td>\n",
       "      <td>Huang High School</td>\n",
       "      <td>67</td>\n",
       "      <td>58</td>\n",
       "      <td>0</td>\n",
       "      <td>District</td>\n",
       "      <td>2917</td>\n",
       "      <td>1910635</td>\n",
       "    </tr>\n",
       "    <tr>\n",
       "      <th>4</th>\n",
       "      <td>4</td>\n",
       "      <td>Bonnie Ray</td>\n",
       "      <td>F</td>\n",
       "      <td>9th</td>\n",
       "      <td>Huang High School</td>\n",
       "      <td>97</td>\n",
       "      <td>84</td>\n",
       "      <td>0</td>\n",
       "      <td>District</td>\n",
       "      <td>2917</td>\n",
       "      <td>1910635</td>\n",
       "    </tr>\n",
       "  </tbody>\n",
       "</table>\n",
       "</div>"
      ],
      "text/plain": [
       "   Student ID       student_name gender grade        school_name  \\\n",
       "0           0       Paul Bradley      M   9th  Huang High School   \n",
       "1           1       Victor Smith      M  12th  Huang High School   \n",
       "2           2    Kevin Rodriguez      M  12th  Huang High School   \n",
       "3           3  Dr. Richard Scott      M  12th  Huang High School   \n",
       "4           4         Bonnie Ray      F   9th  Huang High School   \n",
       "\n",
       "   reading_score  math_score  School ID      type  size   budget  \n",
       "0             66          79          0  District  2917  1910635  \n",
       "1             94          61          0  District  2917  1910635  \n",
       "2             90          60          0  District  2917  1910635  \n",
       "3             67          58          0  District  2917  1910635  \n",
       "4             97          84          0  District  2917  1910635  "
      ]
     },
     "execution_count": 490,
     "metadata": {},
     "output_type": "execute_result"
    }
   ],
   "source": [
    "## Importing in CSV files\n",
    "school_data_csv = \"Resources/schools_complete.csv\"\n",
    "student_data_csv =  \"Resources/students_complete.csv\"\n",
    "\n",
    "## Reading in CSV files and convert into Pandas dataframes\n",
    "school_data_df = pd.read_csv(school_data_csv)\n",
    "student_data_df = pd.read_csv(student_data_csv)\n",
    "\n",
    "## Merging the dataframes\n",
    "school_data_complete = pd.merge(student_data_df, school_data_df, how=\"left\", on=[\"school_name\", \"school_name\"])\n",
    "school_data_complete.head()\n"
   ]
  },
  {
   "cell_type": "code",
   "execution_count": 492,
   "id": "da82bad3-e66f-4ad0-ad8d-2c37c5d7a8b9",
   "metadata": {},
   "outputs": [
    {
     "data": {
      "text/plain": [
       "Student ID       39170\n",
       "student_name     39170\n",
       "gender           39170\n",
       "grade            39170\n",
       "school_name      39170\n",
       "reading_score    39170\n",
       "math_score       39170\n",
       "School ID        39170\n",
       "type             39170\n",
       "size             39170\n",
       "budget           39170\n",
       "dtype: int64"
      ]
     },
     "execution_count": 492,
     "metadata": {},
     "output_type": "execute_result"
    }
   ],
   "source": [
    "## Verifying data is clean\n",
    "school_data_complete.count()"
   ]
  },
  {
   "cell_type": "code",
   "execution_count": 494,
   "id": "2ef0414e-e138-4a15-aa8c-00c9fdf5ba2a",
   "metadata": {},
   "outputs": [
    {
     "name": "stdout",
     "output_type": "stream",
     "text": [
      "    School ID            school_name      type  size   budget\n",
      "0           0      Huang High School  District  2917  1910635\n",
      "1           1   Figueroa High School  District  2949  1884411\n",
      "2           2    Shelton High School   Charter  1761  1056600\n",
      "3           3  Hernandez High School  District  4635  3022020\n",
      "4           4    Griffin High School   Charter  1468   917500\n",
      "5           5     Wilson High School   Charter  2283  1319574\n",
      "6           6    Cabrera High School   Charter  1858  1081356\n",
      "7           7     Bailey High School  District  4976  3124928\n",
      "8           8     Holden High School   Charter   427   248087\n",
      "9           9       Pena High School   Charter   962   585858\n",
      "10         10     Wright High School   Charter  1800  1049400\n",
      "11         11  Rodriguez High School  District  3999  2547363\n",
      "12         12    Johnson High School  District  4761  3094650\n",
      "13         13       Ford High School  District  2739  1763916\n",
      "14         14     Thomas High School   Charter  1635  1043130\n",
      "Total number of unique schools: 15\n"
     ]
    }
   ],
   "source": [
    "## Total number of unique schools\n",
    "\n",
    "## Printing out school dataframe to view all the school names\n",
    "print(school_data_df)\n",
    "## Counting the rows so row 0 is also included in the total\n",
    "#school_data_df.count()\n",
    "unique_schools = 15\n",
    "\n",
    "print(f\"Total number of unique schools: {unique_schools}\")"
   ]
  },
  {
   "cell_type": "code",
   "execution_count": 496,
   "id": "3ac78302-8b03-435e-9d94-0ed384bd4a8f",
   "metadata": {},
   "outputs": [
    {
     "name": "stdout",
     "output_type": "stream",
     "text": [
      "Total number of students: 39170\n"
     ]
    }
   ],
   "source": [
    "## Total students\n",
    "\n",
    "## Counting each student ID\n",
    "student_data_df.count()\n",
    "\n",
    "total_students = 39170\n",
    "print(f\"Total number of students: {39170}\")"
   ]
  },
  {
   "cell_type": "code",
   "execution_count": 498,
   "id": "b0b4f14c-e398-49bb-826c-2d9b64197a91",
   "metadata": {},
   "outputs": [
    {
     "name": "stdout",
     "output_type": "stream",
     "text": [
      "Total budget: $24649428\n"
     ]
    }
   ],
   "source": [
    "## Total budget\n",
    "\n",
    "## Adding the budget for each school together\n",
    "total_budget = school_data_df['budget'].sum()\n",
    "#print(total_budget)\n",
    "\n",
    "print(f\"Total budget: ${total_budget}\")"
   ]
  },
  {
   "cell_type": "code",
   "execution_count": 500,
   "id": "4112832a-bbd9-4f26-8f50-ec649f74d04e",
   "metadata": {},
   "outputs": [
    {
     "name": "stdout",
     "output_type": "stream",
     "text": [
      "Average math score: 79.0\n"
     ]
    }
   ],
   "source": [
    "## Average math score\n",
    "\n",
    "## Finding the average math score, then rounding to the nearest whole #\n",
    "average_math = (school_data_complete['math_score'].mean()).round()\n",
    "#print(average_math)\n",
    "\n",
    "print(f\"Average math score: {average_math}\")"
   ]
  },
  {
   "cell_type": "code",
   "execution_count": 326,
   "id": "2a83c13b-a6c4-4c4b-a16b-5b176fae2487",
   "metadata": {},
   "outputs": [
    {
     "name": "stdout",
     "output_type": "stream",
     "text": [
      "Average reading score: 82.0\n"
     ]
    }
   ],
   "source": [
    "## Average reading score\n",
    "\n",
    "## Finding the average reading score, then rounding to the nearest whole #\n",
    "average_reading = (school_data_complete['reading_score'].mean()).round()\n",
    "#print(average_reading)\n",
    "\n",
    "print(f\"Average reading score: {average_reading}\")"
   ]
  },
  {
   "cell_type": "code",
   "execution_count": 502,
   "id": "73edfa69-abc7-4b7e-bfe4-5b4f05b9afb6",
   "metadata": {},
   "outputs": [
    {
     "name": "stdout",
     "output_type": "stream",
     "text": [
      "Average passing math: 75%\n"
     ]
    }
   ],
   "source": [
    "## % passing math (the percentage of students who passed math)\n",
    "\n",
    "## Sorting to find students that passed math\n",
    "math_pass = school_data_complete.loc[school_data_complete['math_score'] >= 70]\n",
    "#print(math_pass)\n",
    "#percent_pass_math = math_pass.mean()\n",
    "## Counts how many students are in the new variable\n",
    "math_pass.count()\n",
    "## Setting a variable to hold the # of passing students for math\n",
    "student_math_pass = 29370\n",
    "\n",
    "## Finding the average\n",
    "average_math_pass = ((student_math_pass/total_students)*100)\n",
    "r_average_math_pass = round(average_math_pass)\n",
    "#print(r_average_math_pass)\n",
    "\n",
    "print(f\"Average passing math: {r_average_math_pass}%\")"
   ]
  },
  {
   "cell_type": "code",
   "execution_count": 504,
   "id": "773687f6-7d6a-43b3-9ccf-a9427e7191d3",
   "metadata": {},
   "outputs": [
    {
     "name": "stdout",
     "output_type": "stream",
     "text": [
      "Average passing reading: 86%\n"
     ]
    }
   ],
   "source": [
    "## % passing reading (the percentage of students who passed reading)\n",
    "\n",
    "## Sorting to find students that passed reading\n",
    "reading_pass = school_data_complete.loc[school_data_complete['reading_score'] >= 70]\n",
    "#print(reading_pass)\n",
    "#percent_pass_reading = reading_pass.mean()\n",
    "## Counts how many students are in the new variable\n",
    "reading_pass.count()\n",
    "## Setting a variable to hold the # of passing students for reeading\n",
    "student_reading_pass = 33610\n",
    "\n",
    "## Finding the average\n",
    "average_reading_pass = ((student_reading_pass/total_students)*100)\n",
    "r_average_reading_pass = round(average_reading_pass)\n",
    "#print(r_average_reading_pass)\n",
    "\n",
    "print(f\"Average passing reading: {r_average_reading_pass}%\")"
   ]
  },
  {
   "cell_type": "code",
   "execution_count": 506,
   "id": "f1a4635f-4781-46f5-902a-ac0b1855fd5d",
   "metadata": {},
   "outputs": [
    {
     "name": "stdout",
     "output_type": "stream",
     "text": [
      "Overall passing: 65%\n"
     ]
    }
   ],
   "source": [
    "## % overall passing (the percentage of students who passed math AND reading)\n",
    "\n",
    "## Sorting to find students that passed reading and math\n",
    "all_pass = school_data_complete.loc[(school_data_complete['math_score'] >= 70) &\n",
    "    (school_data_complete['reading_score'] >=70)]\n",
    "## Counts how many students passed both subjects\n",
    "all_pass.count()\n",
    "total_all_pass = 25528\n",
    "\n",
    "## Finding the average\n",
    "average_all_pass = ((total_all_pass/total_students)*100)\n",
    "r_average_all_pass = round(average_all_pass)\n",
    "#print(r_average_all_pass)\n",
    "\n",
    "print(f\"Overall passing: {r_average_all_pass}%\") \n"
   ]
  },
  {
   "cell_type": "code",
   "execution_count": 332,
   "id": "d7000d43-08d1-46aa-8e34-e595ebdf7cb5",
   "metadata": {},
   "outputs": [
    {
     "data": {
      "text/html": [
       "<div>\n",
       "<style scoped>\n",
       "    .dataframe tbody tr th:only-of-type {\n",
       "        vertical-align: middle;\n",
       "    }\n",
       "\n",
       "    .dataframe tbody tr th {\n",
       "        vertical-align: top;\n",
       "    }\n",
       "\n",
       "    .dataframe thead th {\n",
       "        text-align: right;\n",
       "    }\n",
       "</style>\n",
       "<table border=\"1\" class=\"dataframe\">\n",
       "  <thead>\n",
       "    <tr style=\"text-align: right;\">\n",
       "      <th></th>\n",
       "      <th>Total Schools</th>\n",
       "      <th>Total Students</th>\n",
       "      <th>Total Budget</th>\n",
       "      <th>Average Math Score</th>\n",
       "      <th>Average Reading Score</th>\n",
       "      <th>% Passing Math</th>\n",
       "      <th>% Passing Reading</th>\n",
       "      <th>% Overall Passing</th>\n",
       "    </tr>\n",
       "  </thead>\n",
       "  <tbody>\n",
       "    <tr>\n",
       "      <th>0</th>\n",
       "      <td>15</td>\n",
       "      <td>39170</td>\n",
       "      <td>24649428</td>\n",
       "      <td>79.0</td>\n",
       "      <td>82.0</td>\n",
       "      <td>75</td>\n",
       "      <td>86</td>\n",
       "      <td>65</td>\n",
       "    </tr>\n",
       "  </tbody>\n",
       "</table>\n",
       "</div>"
      ],
      "text/plain": [
       "   Total Schools  Total Students  Total Budget  Average Math Score  \\\n",
       "0             15           39170      24649428                79.0   \n",
       "\n",
       "   Average Reading Score  % Passing Math  % Passing Reading  % Overall Passing  \n",
       "0                   82.0              75                 86                 65  "
      ]
     },
     "execution_count": 332,
     "metadata": {},
     "output_type": "execute_result"
    }
   ],
   "source": [
    "## District Summary\n",
    "\n",
    "district_df = pd.DataFrame({\n",
    "    \"Total Schools\": [unique_schools],\n",
    "    \"Total Students\": [total_students],\n",
    "    \"Total Budget\": [total_budget],\n",
    "    \"Average Math Score\": [average_math],\n",
    "    \"Average Reading Score\": [average_reading],\n",
    "    \"% Passing Math\": [r_average_math_pass],\n",
    "    \"% Passing Reading\": [r_average_reading_pass],\n",
    "    \"% Overall Passing\": [r_average_all_pass]})\n",
    "district_df\n",
    "    "
   ]
  },
  {
   "cell_type": "code",
   "execution_count": null,
   "id": "ab54357d-b493-429c-948e-3fe8612d122e",
   "metadata": {},
   "outputs": [],
   "source": []
  },
  {
   "cell_type": "code",
   "execution_count": 508,
   "id": "be10390f-58ab-4179-87b9-a4a7eb13bb3c",
   "metadata": {},
   "outputs": [
    {
     "data": {
      "text/plain": [
       "array(['Huang High School', 'Figueroa High School', 'Shelton High School',\n",
       "       'Hernandez High School', 'Griffin High School',\n",
       "       'Wilson High School', 'Cabrera High School', 'Bailey High School',\n",
       "       'Holden High School', 'Pena High School', 'Wright High School',\n",
       "       'Rodriguez High School', 'Johnson High School', 'Ford High School',\n",
       "       'Thomas High School'], dtype=object)"
      ]
     },
     "execution_count": 508,
     "metadata": {},
     "output_type": "execute_result"
    }
   ],
   "source": [
    "\n",
    "## Listing out all the school names\n",
    "unique_schools = school_data_complete['school_name'].unique()\n",
    "unique_schools\n",
    "\n"
   ]
  },
  {
   "cell_type": "code",
   "execution_count": 510,
   "id": "3dd13788-00c6-4fd7-8d70-c334a4c835f8",
   "metadata": {},
   "outputs": [
    {
     "data": {
      "text/plain": [
       "['District',\n",
       " 'District',\n",
       " 'Charter',\n",
       " 'District',\n",
       " 'Charter',\n",
       " 'Charter',\n",
       " 'Charter',\n",
       " 'District',\n",
       " 'Charter',\n",
       " 'Charter',\n",
       " 'Charter',\n",
       " 'District',\n",
       " 'District',\n",
       " 'District',\n",
       " 'Charter']"
      ]
     },
     "execution_count": 510,
     "metadata": {},
     "output_type": "execute_result"
    }
   ],
   "source": [
    "## Per school type\n",
    "\n",
    "## Finding school types and converting to a list\n",
    "per_school_type = school_data_df['type'].tolist()\n",
    "per_school_type"
   ]
  },
  {
   "cell_type": "code",
   "execution_count": 512,
   "id": "aa01eaa7-a9f2-48c1-99f0-2c037d1952c2",
   "metadata": {},
   "outputs": [
    {
     "data": {
      "text/plain": [
       "[4976,\n",
       " 4761,\n",
       " 4635,\n",
       " 3999,\n",
       " 2949,\n",
       " 2917,\n",
       " 2739,\n",
       " 2283,\n",
       " 1858,\n",
       " 1800,\n",
       " 1761,\n",
       " 1635,\n",
       " 1468,\n",
       " 962,\n",
       " 427]"
      ]
     },
     "execution_count": 512,
     "metadata": {},
     "output_type": "execute_result"
    }
   ],
   "source": [
    "## Per school student total\n",
    "\n",
    "## Finding students for each school then converting to a list\n",
    "per_school_students = school_data_complete['school_name'].value_counts()\n",
    "per_school_students_one = per_school_students.tolist()\n",
    "per_school_students_one"
   ]
  },
  {
   "cell_type": "code",
   "execution_count": 514,
   "id": "06ee4154-3a68-4305-ae15-703b09ae51de",
   "metadata": {},
   "outputs": [
    {
     "data": {
      "text/plain": [
       "[1910635,\n",
       " 1884411,\n",
       " 1056600,\n",
       " 3022020,\n",
       " 917500,\n",
       " 1319574,\n",
       " 1081356,\n",
       " 3124928,\n",
       " 248087,\n",
       " 585858,\n",
       " 1049400,\n",
       " 2547363,\n",
       " 3094650,\n",
       " 1763916,\n",
       " 1043130]"
      ]
     },
     "execution_count": 514,
     "metadata": {},
     "output_type": "execute_result"
    }
   ],
   "source": [
    "## Per school budget\n",
    "\n",
    "## Finding budgets for each school and converting to a list\n",
    "per_school_budget_one = school_data_df['budget'].tolist()\n",
    "per_school_budget_one\n"
   ]
  },
  {
   "cell_type": "code",
   "execution_count": null,
   "id": "7a069816-ba93-4e90-a596-2aa71516349e",
   "metadata": {},
   "outputs": [],
   "source": [
    "per_school_budget = school_data_complete.groupby(['school_name']).mean()['budget']"
   ]
  },
  {
   "cell_type": "code",
   "execution_count": 516,
   "id": "a770b27b-c8d2-44d5-88a3-985ec2cf8ef0",
   "metadata": {},
   "outputs": [
    {
     "data": {
      "text/plain": [
       "[383.97005627009645,\n",
       " 395.8015122873346,\n",
       " 227.96116504854368,\n",
       " 755.6939234808702,\n",
       " 311.12241437775515,\n",
       " 452.3736715803908,\n",
       " 394.79956188389923,\n",
       " 1368.7814279456854,\n",
       " 133.52368137782562,\n",
       " 325.4766666666667,\n",
       " 595.9114139693356,\n",
       " 1558.0201834862385,\n",
       " 2108.0722070844686,\n",
       " 1833.5925155925156,\n",
       " 2442.927400468384]"
      ]
     },
     "execution_count": 516,
     "metadata": {},
     "output_type": "execute_result"
    }
   ],
   "source": [
    "## Per capita budget\n",
    "\n",
    "per_capita_budget = per_school_budget / per_school_students\n",
    "per_capita_budget_two = per_capita_budget.tolist()\n",
    "per_capita_budget_two"
   ]
  },
  {
   "cell_type": "code",
   "execution_count": 518,
   "id": "6b22f258-8d49-4293-98da-bd0b400a7731",
   "metadata": {},
   "outputs": [
    {
     "data": {
      "text/plain": [
       "[77.0,\n",
       " 83.0,\n",
       " 77.0,\n",
       " 77.0,\n",
       " 83.0,\n",
       " 77.0,\n",
       " 84.0,\n",
       " 77.0,\n",
       " 77.0,\n",
       " 84.0,\n",
       " 77.0,\n",
       " 83.0,\n",
       " 83.0,\n",
       " 83.0,\n",
       " 84.0]"
      ]
     },
     "execution_count": 518,
     "metadata": {},
     "output_type": "execute_result"
    }
   ],
   "source": [
    "## Per school average math score\n",
    "\n",
    "## Conversion to ineteger so values can be used for calculations\n",
    "school_data_complete['math_score'] = pd.to_numeric(school_data_complete['math_score'])\n",
    "per_school_math = school_data_complete.groupby('school_name')['math_score'].mean()\n",
    "per_school_math_two = per_school_math.round().tolist()\n",
    "per_school_math_two"
   ]
  },
  {
   "cell_type": "code",
   "execution_count": 520,
   "id": "fa6c1d8c-5481-4904-822c-cf324de5cf36",
   "metadata": {},
   "outputs": [
    {
     "data": {
      "text/plain": [
       "[81.0,\n",
       " 84.0,\n",
       " 81.0,\n",
       " 81.0,\n",
       " 84.0,\n",
       " 81.0,\n",
       " 84.0,\n",
       " 81.0,\n",
       " 81.0,\n",
       " 84.0,\n",
       " 81.0,\n",
       " 84.0,\n",
       " 84.0,\n",
       " 84.0,\n",
       " 84.0]"
      ]
     },
     "execution_count": 520,
     "metadata": {},
     "output_type": "execute_result"
    }
   ],
   "source": [
    "## Per school average reading score\n",
    "\n",
    "## Conversion to ineteger so values can be used for calculations\n",
    "school_data_complete['reading_score'] = pd.to_numeric(school_data_complete['reading_score'])\n",
    "per_school_reading = school_data_complete.groupby('school_name')['reading_score'].mean()\n",
    "per_school_reading_two = (per_school_reading.round()).tolist()\n",
    "per_school_reading_two"
   ]
  },
  {
   "cell_type": "code",
   "execution_count": null,
   "id": "f5e6691a-5f22-43d9-8601-635a66613aae",
   "metadata": {},
   "outputs": [],
   "source": [
    "## \n",
    "\n"
   ]
  },
  {
   "cell_type": "code",
   "execution_count": 456,
   "id": "aa95fa24-4210-4523-a5cf-f5f48fe1a1a4",
   "metadata": {},
   "outputs": [],
   "source": [
    "## Per school average passing math\n",
    "\n",
    "\n",
    "#per_school_pass_math = school_data_complete.loc[school_data_complete[\"math_score\"] >= 70]\n",
    "#per_school_pass_math[['school_name', 'math_score']]\n",
    "\n",
    "\n"
   ]
  },
  {
   "cell_type": "code",
   "execution_count": 458,
   "id": "be99f8c1-8c96-45e5-b8f6-fec60018ff62",
   "metadata": {},
   "outputs": [],
   "source": [
    "## Per school average passing reading\n",
    "\n",
    "#per_school_pass_reading = school_data_complete.loc[school_data_complete[\"reading_score\"] >= 70]\n",
    "#per_school_pass_reading"
   ]
  },
  {
   "cell_type": "code",
   "execution_count": 454,
   "id": "a88b615b-37ef-41b2-8f2e-c5fc84de0b64",
   "metadata": {},
   "outputs": [],
   "source": [
    "## Per school average passing both subjects\n",
    "\n",
    "##passing_math_and_reading = school_data_complete[(school_data_complete[\"reading_score\"] >= 70) & (school_data_complete[\"math_score\"] >= 70)]\n",
    "##passing_math_and_reading = school_data_complete[''].value_counts()\n",
    "##passing_math_and_reading"
   ]
  },
  {
   "cell_type": "code",
   "execution_count": 460,
   "id": "10246b78-eb53-4612-b077-8e569a200c2a",
   "metadata": {
    "scrolled": true
   },
   "outputs": [],
   "source": [
    "#per_school_passing_math = per_school_math.groupby([\"school_name\"]).count()[\"student_name\"] /\n",
    "#per_school_counts * 100"
   ]
  },
  {
   "cell_type": "code",
   "execution_count": 528,
   "id": "2f671468-6ecd-4703-bfa7-6e5c552096b6",
   "metadata": {},
   "outputs": [
    {
     "data": {
      "text/html": [
       "<div>\n",
       "<style scoped>\n",
       "    .dataframe tbody tr th:only-of-type {\n",
       "        vertical-align: middle;\n",
       "    }\n",
       "\n",
       "    .dataframe tbody tr th {\n",
       "        vertical-align: top;\n",
       "    }\n",
       "\n",
       "    .dataframe thead th {\n",
       "        text-align: right;\n",
       "    }\n",
       "</style>\n",
       "<table border=\"1\" class=\"dataframe\">\n",
       "  <thead>\n",
       "    <tr style=\"text-align: right;\">\n",
       "      <th></th>\n",
       "      <th>School Type</th>\n",
       "      <th>Total Students</th>\n",
       "      <th>Total School Budget</th>\n",
       "      <th>Per Capita Budget</th>\n",
       "      <th>Average Math Score</th>\n",
       "      <th>Average Reading Score</th>\n",
       "    </tr>\n",
       "    <tr>\n",
       "      <th>School Name</th>\n",
       "      <th></th>\n",
       "      <th></th>\n",
       "      <th></th>\n",
       "      <th></th>\n",
       "      <th></th>\n",
       "      <th></th>\n",
       "    </tr>\n",
       "  </thead>\n",
       "  <tbody>\n",
       "    <tr>\n",
       "      <th>Huang High School</th>\n",
       "      <td>District</td>\n",
       "      <td>4976</td>\n",
       "      <td>1910635</td>\n",
       "      <td>383.970056</td>\n",
       "      <td>77.0</td>\n",
       "      <td>81.0</td>\n",
       "    </tr>\n",
       "    <tr>\n",
       "      <th>Figueroa High School</th>\n",
       "      <td>District</td>\n",
       "      <td>4761</td>\n",
       "      <td>1884411</td>\n",
       "      <td>395.801512</td>\n",
       "      <td>83.0</td>\n",
       "      <td>84.0</td>\n",
       "    </tr>\n",
       "    <tr>\n",
       "      <th>Shelton High School</th>\n",
       "      <td>Charter</td>\n",
       "      <td>4635</td>\n",
       "      <td>1056600</td>\n",
       "      <td>227.961165</td>\n",
       "      <td>77.0</td>\n",
       "      <td>81.0</td>\n",
       "    </tr>\n",
       "    <tr>\n",
       "      <th>Hernandez High School</th>\n",
       "      <td>District</td>\n",
       "      <td>3999</td>\n",
       "      <td>3022020</td>\n",
       "      <td>755.693923</td>\n",
       "      <td>77.0</td>\n",
       "      <td>81.0</td>\n",
       "    </tr>\n",
       "    <tr>\n",
       "      <th>Griffin High School</th>\n",
       "      <td>Charter</td>\n",
       "      <td>2949</td>\n",
       "      <td>917500</td>\n",
       "      <td>311.122414</td>\n",
       "      <td>83.0</td>\n",
       "      <td>84.0</td>\n",
       "    </tr>\n",
       "    <tr>\n",
       "      <th>Wilson High School</th>\n",
       "      <td>Charter</td>\n",
       "      <td>2917</td>\n",
       "      <td>1319574</td>\n",
       "      <td>452.373672</td>\n",
       "      <td>77.0</td>\n",
       "      <td>81.0</td>\n",
       "    </tr>\n",
       "    <tr>\n",
       "      <th>Cabrera High School</th>\n",
       "      <td>Charter</td>\n",
       "      <td>2739</td>\n",
       "      <td>1081356</td>\n",
       "      <td>394.799562</td>\n",
       "      <td>84.0</td>\n",
       "      <td>84.0</td>\n",
       "    </tr>\n",
       "    <tr>\n",
       "      <th>Bailey High School</th>\n",
       "      <td>District</td>\n",
       "      <td>2283</td>\n",
       "      <td>3124928</td>\n",
       "      <td>1368.781428</td>\n",
       "      <td>77.0</td>\n",
       "      <td>81.0</td>\n",
       "    </tr>\n",
       "    <tr>\n",
       "      <th>Holden High School</th>\n",
       "      <td>Charter</td>\n",
       "      <td>1858</td>\n",
       "      <td>248087</td>\n",
       "      <td>133.523681</td>\n",
       "      <td>77.0</td>\n",
       "      <td>81.0</td>\n",
       "    </tr>\n",
       "    <tr>\n",
       "      <th>Pena High School</th>\n",
       "      <td>Charter</td>\n",
       "      <td>1800</td>\n",
       "      <td>585858</td>\n",
       "      <td>325.476667</td>\n",
       "      <td>84.0</td>\n",
       "      <td>84.0</td>\n",
       "    </tr>\n",
       "    <tr>\n",
       "      <th>Wright High School</th>\n",
       "      <td>Charter</td>\n",
       "      <td>1761</td>\n",
       "      <td>1049400</td>\n",
       "      <td>595.911414</td>\n",
       "      <td>77.0</td>\n",
       "      <td>81.0</td>\n",
       "    </tr>\n",
       "    <tr>\n",
       "      <th>Rodriguez High School</th>\n",
       "      <td>District</td>\n",
       "      <td>1635</td>\n",
       "      <td>2547363</td>\n",
       "      <td>1558.020183</td>\n",
       "      <td>83.0</td>\n",
       "      <td>84.0</td>\n",
       "    </tr>\n",
       "    <tr>\n",
       "      <th>Johnson High School</th>\n",
       "      <td>District</td>\n",
       "      <td>1468</td>\n",
       "      <td>3094650</td>\n",
       "      <td>2108.072207</td>\n",
       "      <td>83.0</td>\n",
       "      <td>84.0</td>\n",
       "    </tr>\n",
       "    <tr>\n",
       "      <th>Ford High School</th>\n",
       "      <td>District</td>\n",
       "      <td>962</td>\n",
       "      <td>1763916</td>\n",
       "      <td>1833.592516</td>\n",
       "      <td>83.0</td>\n",
       "      <td>84.0</td>\n",
       "    </tr>\n",
       "    <tr>\n",
       "      <th>Thomas High School</th>\n",
       "      <td>Charter</td>\n",
       "      <td>427</td>\n",
       "      <td>1043130</td>\n",
       "      <td>2442.927400</td>\n",
       "      <td>84.0</td>\n",
       "      <td>84.0</td>\n",
       "    </tr>\n",
       "  </tbody>\n",
       "</table>\n",
       "</div>"
      ],
      "text/plain": [
       "                      School Type  Total Students  Total School Budget  \\\n",
       "School Name                                                              \n",
       "Huang High School        District            4976              1910635   \n",
       "Figueroa High School     District            4761              1884411   \n",
       "Shelton High School       Charter            4635              1056600   \n",
       "Hernandez High School    District            3999              3022020   \n",
       "Griffin High School       Charter            2949               917500   \n",
       "Wilson High School        Charter            2917              1319574   \n",
       "Cabrera High School       Charter            2739              1081356   \n",
       "Bailey High School       District            2283              3124928   \n",
       "Holden High School        Charter            1858               248087   \n",
       "Pena High School          Charter            1800               585858   \n",
       "Wright High School        Charter            1761              1049400   \n",
       "Rodriguez High School    District            1635              2547363   \n",
       "Johnson High School      District            1468              3094650   \n",
       "Ford High School         District             962              1763916   \n",
       "Thomas High School        Charter             427              1043130   \n",
       "\n",
       "                       Per Capita Budget  Average Math Score  \\\n",
       "School Name                                                    \n",
       "Huang High School             383.970056                77.0   \n",
       "Figueroa High School          395.801512                83.0   \n",
       "Shelton High School           227.961165                77.0   \n",
       "Hernandez High School         755.693923                77.0   \n",
       "Griffin High School           311.122414                83.0   \n",
       "Wilson High School            452.373672                77.0   \n",
       "Cabrera High School           394.799562                84.0   \n",
       "Bailey High School           1368.781428                77.0   \n",
       "Holden High School            133.523681                77.0   \n",
       "Pena High School              325.476667                84.0   \n",
       "Wright High School            595.911414                77.0   \n",
       "Rodriguez High School        1558.020183                83.0   \n",
       "Johnson High School          2108.072207                83.0   \n",
       "Ford High School             1833.592516                83.0   \n",
       "Thomas High School           2442.927400                84.0   \n",
       "\n",
       "                       Average Reading Score  \n",
       "School Name                                   \n",
       "Huang High School                       81.0  \n",
       "Figueroa High School                    84.0  \n",
       "Shelton High School                     81.0  \n",
       "Hernandez High School                   81.0  \n",
       "Griffin High School                     84.0  \n",
       "Wilson High School                      81.0  \n",
       "Cabrera High School                     84.0  \n",
       "Bailey High School                      81.0  \n",
       "Holden High School                      81.0  \n",
       "Pena High School                        84.0  \n",
       "Wright High School                      81.0  \n",
       "Rodriguez High School                   84.0  \n",
       "Johnson High School                     84.0  \n",
       "Ford High School                        84.0  \n",
       "Thomas High School                      84.0  "
      ]
     },
     "execution_count": 528,
     "metadata": {},
     "output_type": "execute_result"
    }
   ],
   "source": [
    "# Create the per_school_summary DataFrame\n",
    "per_school_summary = pd.DataFrame({\n",
    "    \"School Name\": unique_schools,\n",
    "    \"School Type\": per_school_type,\n",
    "    \"Total Students\": per_school_students_one,\n",
    "    \"Total School Budget\": per_school_budget_one,\n",
    "    \"Per Capita Budget\": per_capita_budget_two,\n",
    "    \"Average Math Score\": per_school_math_two,\n",
    "    \"Average Reading Score\": per_school_reading_two\n",
    "})\n",
    "#per_school_summary\n",
    "## Filter by 'School Name\"\n",
    "updated_summary_df = per_school_summary.set_index(\"School Name\")\n",
    "updated_summary_df"
   ]
  },
  {
   "cell_type": "code",
   "execution_count": null,
   "id": "6158f14a-feba-485a-a7b8-ee20ea92fe30",
   "metadata": {},
   "outputs": [],
   "source": []
  },
  {
   "cell_type": "code",
   "execution_count": null,
   "id": "16b9888c-943c-4db5-af7f-03cf9c933639",
   "metadata": {},
   "outputs": [],
   "source": []
  },
  {
   "cell_type": "code",
   "execution_count": null,
   "id": "8b880c1e-d1fa-4b57-a278-7abf301a58c4",
   "metadata": {},
   "outputs": [],
   "source": []
  }
 ],
 "metadata": {
  "kernelspec": {
   "display_name": "Python 3 (ipykernel)",
   "language": "python",
   "name": "python3"
  },
  "language_info": {
   "codemirror_mode": {
    "name": "ipython",
    "version": 3
   },
   "file_extension": ".py",
   "mimetype": "text/x-python",
   "name": "python",
   "nbconvert_exporter": "python",
   "pygments_lexer": "ipython3",
   "version": "3.11.7"
  }
 },
 "nbformat": 4,
 "nbformat_minor": 5
}
